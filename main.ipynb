{
 "cells": [
  {
   "cell_type": "code",
   "execution_count": 53,
   "metadata": {},
   "outputs": [
    {
     "data": {
      "text/html": [
       "<div>\n",
       "<style scoped>\n",
       "    .dataframe tbody tr th:only-of-type {\n",
       "        vertical-align: middle;\n",
       "    }\n",
       "\n",
       "    .dataframe tbody tr th {\n",
       "        vertical-align: top;\n",
       "    }\n",
       "\n",
       "    .dataframe thead th {\n",
       "        text-align: right;\n",
       "    }\n",
       "</style>\n",
       "<table border=\"1\" class=\"dataframe\">\n",
       "  <thead>\n",
       "    <tr style=\"text-align: right;\">\n",
       "      <th></th>\n",
       "      <th>id</th>\n",
       "      <th>f_00</th>\n",
       "      <th>f_01</th>\n",
       "      <th>f_02</th>\n",
       "      <th>f_03</th>\n",
       "      <th>f_04</th>\n",
       "      <th>f_05</th>\n",
       "      <th>f_06</th>\n",
       "      <th>f_07</th>\n",
       "      <th>f_08</th>\n",
       "      <th>...</th>\n",
       "      <th>f_19</th>\n",
       "      <th>f_20</th>\n",
       "      <th>f_21</th>\n",
       "      <th>f_22</th>\n",
       "      <th>f_23</th>\n",
       "      <th>f_24</th>\n",
       "      <th>f_25</th>\n",
       "      <th>f_26</th>\n",
       "      <th>f_27</th>\n",
       "      <th>f_28</th>\n",
       "    </tr>\n",
       "  </thead>\n",
       "  <tbody>\n",
       "    <tr>\n",
       "      <th>count</th>\n",
       "      <td>98000.000000</td>\n",
       "      <td>98000.000000</td>\n",
       "      <td>98000.000000</td>\n",
       "      <td>98000.000000</td>\n",
       "      <td>98000.000000</td>\n",
       "      <td>98000.000000</td>\n",
       "      <td>98000.000000</td>\n",
       "      <td>98000.000000</td>\n",
       "      <td>98000.000000</td>\n",
       "      <td>98000.000000</td>\n",
       "      <td>...</td>\n",
       "      <td>98000.000000</td>\n",
       "      <td>98000.000000</td>\n",
       "      <td>98000.000000</td>\n",
       "      <td>98000.000000</td>\n",
       "      <td>98000.000000</td>\n",
       "      <td>98000.000000</td>\n",
       "      <td>98000.000000</td>\n",
       "      <td>98000.000000</td>\n",
       "      <td>98000.000000</td>\n",
       "      <td>98000.000000</td>\n",
       "    </tr>\n",
       "    <tr>\n",
       "      <th>mean</th>\n",
       "      <td>48999.500000</td>\n",
       "      <td>0.001220</td>\n",
       "      <td>0.005580</td>\n",
       "      <td>-0.001042</td>\n",
       "      <td>-0.000700</td>\n",
       "      <td>-0.003522</td>\n",
       "      <td>-0.001612</td>\n",
       "      <td>-0.003042</td>\n",
       "      <td>5.545918</td>\n",
       "      <td>6.763061</td>\n",
       "      <td>...</td>\n",
       "      <td>-0.004513</td>\n",
       "      <td>-0.000515</td>\n",
       "      <td>-0.001670</td>\n",
       "      <td>-0.038752</td>\n",
       "      <td>-0.220002</td>\n",
       "      <td>0.166434</td>\n",
       "      <td>-0.064309</td>\n",
       "      <td>-0.062540</td>\n",
       "      <td>0.098472</td>\n",
       "      <td>-0.230910</td>\n",
       "    </tr>\n",
       "    <tr>\n",
       "      <th>std</th>\n",
       "      <td>28290.307527</td>\n",
       "      <td>1.002801</td>\n",
       "      <td>1.000742</td>\n",
       "      <td>1.001373</td>\n",
       "      <td>1.000422</td>\n",
       "      <td>1.003061</td>\n",
       "      <td>1.000532</td>\n",
       "      <td>0.997434</td>\n",
       "      <td>3.691840</td>\n",
       "      <td>4.152348</td>\n",
       "      <td>...</td>\n",
       "      <td>1.004372</td>\n",
       "      <td>1.002962</td>\n",
       "      <td>0.999703</td>\n",
       "      <td>1.477858</td>\n",
       "      <td>1.494836</td>\n",
       "      <td>1.543014</td>\n",
       "      <td>1.576086</td>\n",
       "      <td>1.428055</td>\n",
       "      <td>1.305407</td>\n",
       "      <td>1.528476</td>\n",
       "    </tr>\n",
       "    <tr>\n",
       "      <th>min</th>\n",
       "      <td>0.000000</td>\n",
       "      <td>-4.732235</td>\n",
       "      <td>-4.202795</td>\n",
       "      <td>-4.377021</td>\n",
       "      <td>-4.010826</td>\n",
       "      <td>-4.535903</td>\n",
       "      <td>-4.300767</td>\n",
       "      <td>-4.894525</td>\n",
       "      <td>0.000000</td>\n",
       "      <td>0.000000</td>\n",
       "      <td>...</td>\n",
       "      <td>-4.894525</td>\n",
       "      <td>-4.732235</td>\n",
       "      <td>-4.438130</td>\n",
       "      <td>-6.873999</td>\n",
       "      <td>-8.234305</td>\n",
       "      <td>-7.792363</td>\n",
       "      <td>-6.593842</td>\n",
       "      <td>-7.375719</td>\n",
       "      <td>-7.335556</td>\n",
       "      <td>-6.954151</td>\n",
       "    </tr>\n",
       "    <tr>\n",
       "      <th>25%</th>\n",
       "      <td>24499.750000</td>\n",
       "      <td>-0.675226</td>\n",
       "      <td>-0.670985</td>\n",
       "      <td>-0.672779</td>\n",
       "      <td>-0.672540</td>\n",
       "      <td>-0.682510</td>\n",
       "      <td>-0.675066</td>\n",
       "      <td>-0.680421</td>\n",
       "      <td>3.000000</td>\n",
       "      <td>4.000000</td>\n",
       "      <td>...</td>\n",
       "      <td>-0.678773</td>\n",
       "      <td>-0.679777</td>\n",
       "      <td>-0.675147</td>\n",
       "      <td>-1.022964</td>\n",
       "      <td>-1.203204</td>\n",
       "      <td>-0.903385</td>\n",
       "      <td>-1.128966</td>\n",
       "      <td>-0.975680</td>\n",
       "      <td>-0.746489</td>\n",
       "      <td>-1.262606</td>\n",
       "    </tr>\n",
       "    <tr>\n",
       "      <th>50%</th>\n",
       "      <td>48999.500000</td>\n",
       "      <td>0.002022</td>\n",
       "      <td>0.006650</td>\n",
       "      <td>-0.000324</td>\n",
       "      <td>-0.003185</td>\n",
       "      <td>-0.003307</td>\n",
       "      <td>0.001024</td>\n",
       "      <td>-0.002053</td>\n",
       "      <td>5.000000</td>\n",
       "      <td>6.000000</td>\n",
       "      <td>...</td>\n",
       "      <td>-0.000587</td>\n",
       "      <td>-0.000806</td>\n",
       "      <td>0.000819</td>\n",
       "      <td>-0.056687</td>\n",
       "      <td>-0.219046</td>\n",
       "      <td>0.167074</td>\n",
       "      <td>-0.099221</td>\n",
       "      <td>-0.070852</td>\n",
       "      <td>0.082230</td>\n",
       "      <td>-0.271319</td>\n",
       "    </tr>\n",
       "    <tr>\n",
       "      <th>75%</th>\n",
       "      <td>73499.250000</td>\n",
       "      <td>0.677271</td>\n",
       "      <td>0.677746</td>\n",
       "      <td>0.677086</td>\n",
       "      <td>0.672097</td>\n",
       "      <td>0.677589</td>\n",
       "      <td>0.673344</td>\n",
       "      <td>0.668112</td>\n",
       "      <td>8.000000</td>\n",
       "      <td>9.000000</td>\n",
       "      <td>...</td>\n",
       "      <td>0.672149</td>\n",
       "      <td>0.675437</td>\n",
       "      <td>0.676881</td>\n",
       "      <td>0.930158</td>\n",
       "      <td>0.764690</td>\n",
       "      <td>1.217432</td>\n",
       "      <td>0.987684</td>\n",
       "      <td>0.843212</td>\n",
       "      <td>0.925306</td>\n",
       "      <td>0.770516</td>\n",
       "    </tr>\n",
       "    <tr>\n",
       "      <th>max</th>\n",
       "      <td>97999.000000</td>\n",
       "      <td>4.490521</td>\n",
       "      <td>4.324974</td>\n",
       "      <td>4.560247</td>\n",
       "      <td>4.399373</td>\n",
       "      <td>4.050549</td>\n",
       "      <td>4.710316</td>\n",
       "      <td>3.998595</td>\n",
       "      <td>32.000000</td>\n",
       "      <td>30.000000</td>\n",
       "      <td>...</td>\n",
       "      <td>4.560247</td>\n",
       "      <td>4.399373</td>\n",
       "      <td>4.135419</td>\n",
       "      <td>6.517721</td>\n",
       "      <td>6.054831</td>\n",
       "      <td>7.527271</td>\n",
       "      <td>7.544731</td>\n",
       "      <td>7.005608</td>\n",
       "      <td>7.205971</td>\n",
       "      <td>6.977150</td>\n",
       "    </tr>\n",
       "  </tbody>\n",
       "</table>\n",
       "<p>8 rows × 30 columns</p>\n",
       "</div>"
      ],
      "text/plain": [
       "                 id          f_00          f_01          f_02          f_03  \\\n",
       "count  98000.000000  98000.000000  98000.000000  98000.000000  98000.000000   \n",
       "mean   48999.500000      0.001220      0.005580     -0.001042     -0.000700   \n",
       "std    28290.307527      1.002801      1.000742      1.001373      1.000422   \n",
       "min        0.000000     -4.732235     -4.202795     -4.377021     -4.010826   \n",
       "25%    24499.750000     -0.675226     -0.670985     -0.672779     -0.672540   \n",
       "50%    48999.500000      0.002022      0.006650     -0.000324     -0.003185   \n",
       "75%    73499.250000      0.677271      0.677746      0.677086      0.672097   \n",
       "max    97999.000000      4.490521      4.324974      4.560247      4.399373   \n",
       "\n",
       "               f_04          f_05          f_06          f_07          f_08  \\\n",
       "count  98000.000000  98000.000000  98000.000000  98000.000000  98000.000000   \n",
       "mean      -0.003522     -0.001612     -0.003042      5.545918      6.763061   \n",
       "std        1.003061      1.000532      0.997434      3.691840      4.152348   \n",
       "min       -4.535903     -4.300767     -4.894525      0.000000      0.000000   \n",
       "25%       -0.682510     -0.675066     -0.680421      3.000000      4.000000   \n",
       "50%       -0.003307      0.001024     -0.002053      5.000000      6.000000   \n",
       "75%        0.677589      0.673344      0.668112      8.000000      9.000000   \n",
       "max        4.050549      4.710316      3.998595     32.000000     30.000000   \n",
       "\n",
       "       ...          f_19          f_20          f_21          f_22  \\\n",
       "count  ...  98000.000000  98000.000000  98000.000000  98000.000000   \n",
       "mean   ...     -0.004513     -0.000515     -0.001670     -0.038752   \n",
       "std    ...      1.004372      1.002962      0.999703      1.477858   \n",
       "min    ...     -4.894525     -4.732235     -4.438130     -6.873999   \n",
       "25%    ...     -0.678773     -0.679777     -0.675147     -1.022964   \n",
       "50%    ...     -0.000587     -0.000806      0.000819     -0.056687   \n",
       "75%    ...      0.672149      0.675437      0.676881      0.930158   \n",
       "max    ...      4.560247      4.399373      4.135419      6.517721   \n",
       "\n",
       "               f_23          f_24          f_25          f_26          f_27  \\\n",
       "count  98000.000000  98000.000000  98000.000000  98000.000000  98000.000000   \n",
       "mean      -0.220002      0.166434     -0.064309     -0.062540      0.098472   \n",
       "std        1.494836      1.543014      1.576086      1.428055      1.305407   \n",
       "min       -8.234305     -7.792363     -6.593842     -7.375719     -7.335556   \n",
       "25%       -1.203204     -0.903385     -1.128966     -0.975680     -0.746489   \n",
       "50%       -0.219046      0.167074     -0.099221     -0.070852      0.082230   \n",
       "75%        0.764690      1.217432      0.987684      0.843212      0.925306   \n",
       "max        6.054831      7.527271      7.544731      7.005608      7.205971   \n",
       "\n",
       "               f_28  \n",
       "count  98000.000000  \n",
       "mean      -0.230910  \n",
       "std        1.528476  \n",
       "min       -6.954151  \n",
       "25%       -1.262606  \n",
       "50%       -0.271319  \n",
       "75%        0.770516  \n",
       "max        6.977150  \n",
       "\n",
       "[8 rows x 30 columns]"
      ]
     },
     "execution_count": 53,
     "metadata": {},
     "output_type": "execute_result"
    }
   ],
   "source": [
    "import pandas as pd\n",
    "\n",
    "data = pd.read_csv('data/data.csv')\n",
    "data.describe()"
   ]
  },
  {
   "attachments": {},
   "cell_type": "markdown",
   "metadata": {},
   "source": [
    "## Preprocessing"
   ]
  },
  {
   "cell_type": "code",
   "execution_count": 54,
   "metadata": {},
   "outputs": [
    {
     "data": {
      "text/html": [
       "<div>\n",
       "<style scoped>\n",
       "    .dataframe tbody tr th:only-of-type {\n",
       "        vertical-align: middle;\n",
       "    }\n",
       "\n",
       "    .dataframe tbody tr th {\n",
       "        vertical-align: top;\n",
       "    }\n",
       "\n",
       "    .dataframe thead th {\n",
       "        text-align: right;\n",
       "    }\n",
       "</style>\n",
       "<table border=\"1\" class=\"dataframe\">\n",
       "  <thead>\n",
       "    <tr style=\"text-align: right;\">\n",
       "      <th></th>\n",
       "      <th>f_00</th>\n",
       "      <th>f_01</th>\n",
       "      <th>f_02</th>\n",
       "      <th>f_03</th>\n",
       "      <th>f_04</th>\n",
       "      <th>f_05</th>\n",
       "      <th>f_06</th>\n",
       "      <th>f_14</th>\n",
       "      <th>f_15</th>\n",
       "      <th>f_16</th>\n",
       "      <th>...</th>\n",
       "      <th>f_23</th>\n",
       "      <th>f_24</th>\n",
       "      <th>f_25</th>\n",
       "      <th>f_26</th>\n",
       "      <th>f_27</th>\n",
       "      <th>f_28</th>\n",
       "      <th>2</th>\n",
       "      <th>3</th>\n",
       "      <th>4</th>\n",
       "      <th>5</th>\n",
       "    </tr>\n",
       "  </thead>\n",
       "  <tbody>\n",
       "    <tr>\n",
       "      <th>count</th>\n",
       "      <td>98000.000000</td>\n",
       "      <td>98000.000000</td>\n",
       "      <td>98000.000000</td>\n",
       "      <td>98000.000000</td>\n",
       "      <td>98000.000000</td>\n",
       "      <td>98000.000000</td>\n",
       "      <td>98000.000000</td>\n",
       "      <td>98000.000000</td>\n",
       "      <td>98000.000000</td>\n",
       "      <td>98000.000000</td>\n",
       "      <td>...</td>\n",
       "      <td>98000.000000</td>\n",
       "      <td>98000.000000</td>\n",
       "      <td>98000.000000</td>\n",
       "      <td>98000.000000</td>\n",
       "      <td>98000.000000</td>\n",
       "      <td>98000.000000</td>\n",
       "      <td>98000.000000</td>\n",
       "      <td>98000.000000</td>\n",
       "      <td>98000.000000</td>\n",
       "      <td>98000.000000</td>\n",
       "    </tr>\n",
       "    <tr>\n",
       "      <th>mean</th>\n",
       "      <td>0.001220</td>\n",
       "      <td>0.005580</td>\n",
       "      <td>-0.001042</td>\n",
       "      <td>-0.000700</td>\n",
       "      <td>-0.003522</td>\n",
       "      <td>-0.001612</td>\n",
       "      <td>-0.003042</td>\n",
       "      <td>0.003413</td>\n",
       "      <td>-0.002639</td>\n",
       "      <td>0.005404</td>\n",
       "      <td>...</td>\n",
       "      <td>-0.220002</td>\n",
       "      <td>0.166434</td>\n",
       "      <td>-0.064309</td>\n",
       "      <td>-0.062540</td>\n",
       "      <td>0.098472</td>\n",
       "      <td>-0.230910</td>\n",
       "      <td>0.100622</td>\n",
       "      <td>0.109469</td>\n",
       "      <td>0.110173</td>\n",
       "      <td>0.105480</td>\n",
       "    </tr>\n",
       "    <tr>\n",
       "      <th>std</th>\n",
       "      <td>1.002801</td>\n",
       "      <td>1.000742</td>\n",
       "      <td>1.001373</td>\n",
       "      <td>1.000422</td>\n",
       "      <td>1.003061</td>\n",
       "      <td>1.000532</td>\n",
       "      <td>0.997434</td>\n",
       "      <td>0.998940</td>\n",
       "      <td>1.001096</td>\n",
       "      <td>1.003277</td>\n",
       "      <td>...</td>\n",
       "      <td>1.494836</td>\n",
       "      <td>1.543014</td>\n",
       "      <td>1.576086</td>\n",
       "      <td>1.428055</td>\n",
       "      <td>1.305407</td>\n",
       "      <td>1.528476</td>\n",
       "      <td>0.300830</td>\n",
       "      <td>0.312229</td>\n",
       "      <td>0.313107</td>\n",
       "      <td>0.307172</td>\n",
       "    </tr>\n",
       "    <tr>\n",
       "      <th>min</th>\n",
       "      <td>-4.732235</td>\n",
       "      <td>-4.202795</td>\n",
       "      <td>-4.377021</td>\n",
       "      <td>-4.010826</td>\n",
       "      <td>-4.535903</td>\n",
       "      <td>-4.300767</td>\n",
       "      <td>-4.894525</td>\n",
       "      <td>-4.377021</td>\n",
       "      <td>-4.535903</td>\n",
       "      <td>-4.182233</td>\n",
       "      <td>...</td>\n",
       "      <td>-8.234305</td>\n",
       "      <td>-7.792363</td>\n",
       "      <td>-6.593842</td>\n",
       "      <td>-7.375719</td>\n",
       "      <td>-7.335556</td>\n",
       "      <td>-6.954151</td>\n",
       "      <td>0.000000</td>\n",
       "      <td>0.000000</td>\n",
       "      <td>0.000000</td>\n",
       "      <td>0.000000</td>\n",
       "    </tr>\n",
       "    <tr>\n",
       "      <th>25%</th>\n",
       "      <td>-0.675226</td>\n",
       "      <td>-0.670985</td>\n",
       "      <td>-0.672779</td>\n",
       "      <td>-0.672540</td>\n",
       "      <td>-0.682510</td>\n",
       "      <td>-0.675066</td>\n",
       "      <td>-0.680421</td>\n",
       "      <td>-0.671810</td>\n",
       "      <td>-0.677757</td>\n",
       "      <td>-0.671055</td>\n",
       "      <td>...</td>\n",
       "      <td>-1.203204</td>\n",
       "      <td>-0.903385</td>\n",
       "      <td>-1.128966</td>\n",
       "      <td>-0.975680</td>\n",
       "      <td>-0.746489</td>\n",
       "      <td>-1.262606</td>\n",
       "      <td>0.000000</td>\n",
       "      <td>0.000000</td>\n",
       "      <td>0.000000</td>\n",
       "      <td>0.000000</td>\n",
       "    </tr>\n",
       "    <tr>\n",
       "      <th>50%</th>\n",
       "      <td>0.002022</td>\n",
       "      <td>0.006650</td>\n",
       "      <td>-0.000324</td>\n",
       "      <td>-0.003185</td>\n",
       "      <td>-0.003307</td>\n",
       "      <td>0.001024</td>\n",
       "      <td>-0.002053</td>\n",
       "      <td>0.003536</td>\n",
       "      <td>-0.004299</td>\n",
       "      <td>0.006535</td>\n",
       "      <td>...</td>\n",
       "      <td>-0.219046</td>\n",
       "      <td>0.167074</td>\n",
       "      <td>-0.099221</td>\n",
       "      <td>-0.070852</td>\n",
       "      <td>0.082230</td>\n",
       "      <td>-0.271319</td>\n",
       "      <td>0.000000</td>\n",
       "      <td>0.000000</td>\n",
       "      <td>0.000000</td>\n",
       "      <td>0.000000</td>\n",
       "    </tr>\n",
       "    <tr>\n",
       "      <th>75%</th>\n",
       "      <td>0.677271</td>\n",
       "      <td>0.677746</td>\n",
       "      <td>0.677086</td>\n",
       "      <td>0.672097</td>\n",
       "      <td>0.677589</td>\n",
       "      <td>0.673344</td>\n",
       "      <td>0.668112</td>\n",
       "      <td>0.678679</td>\n",
       "      <td>0.673859</td>\n",
       "      <td>0.680903</td>\n",
       "      <td>...</td>\n",
       "      <td>0.764690</td>\n",
       "      <td>1.217432</td>\n",
       "      <td>0.987684</td>\n",
       "      <td>0.843212</td>\n",
       "      <td>0.925306</td>\n",
       "      <td>0.770516</td>\n",
       "      <td>0.000000</td>\n",
       "      <td>0.000000</td>\n",
       "      <td>0.000000</td>\n",
       "      <td>0.000000</td>\n",
       "    </tr>\n",
       "    <tr>\n",
       "      <th>max</th>\n",
       "      <td>4.490521</td>\n",
       "      <td>4.324974</td>\n",
       "      <td>4.560247</td>\n",
       "      <td>4.399373</td>\n",
       "      <td>4.050549</td>\n",
       "      <td>4.710316</td>\n",
       "      <td>3.998595</td>\n",
       "      <td>4.490521</td>\n",
       "      <td>4.270708</td>\n",
       "      <td>4.157538</td>\n",
       "      <td>...</td>\n",
       "      <td>6.054831</td>\n",
       "      <td>7.527271</td>\n",
       "      <td>7.544731</td>\n",
       "      <td>7.005608</td>\n",
       "      <td>7.205971</td>\n",
       "      <td>6.977150</td>\n",
       "      <td>1.000000</td>\n",
       "      <td>1.000000</td>\n",
       "      <td>1.000000</td>\n",
       "      <td>1.000000</td>\n",
       "    </tr>\n",
       "  </tbody>\n",
       "</table>\n",
       "<p>8 rows × 26 columns</p>\n",
       "</div>"
      ],
      "text/plain": [
       "               f_00          f_01          f_02          f_03          f_04  \\\n",
       "count  98000.000000  98000.000000  98000.000000  98000.000000  98000.000000   \n",
       "mean       0.001220      0.005580     -0.001042     -0.000700     -0.003522   \n",
       "std        1.002801      1.000742      1.001373      1.000422      1.003061   \n",
       "min       -4.732235     -4.202795     -4.377021     -4.010826     -4.535903   \n",
       "25%       -0.675226     -0.670985     -0.672779     -0.672540     -0.682510   \n",
       "50%        0.002022      0.006650     -0.000324     -0.003185     -0.003307   \n",
       "75%        0.677271      0.677746      0.677086      0.672097      0.677589   \n",
       "max        4.490521      4.324974      4.560247      4.399373      4.050549   \n",
       "\n",
       "               f_05          f_06          f_14          f_15          f_16  \\\n",
       "count  98000.000000  98000.000000  98000.000000  98000.000000  98000.000000   \n",
       "mean      -0.001612     -0.003042      0.003413     -0.002639      0.005404   \n",
       "std        1.000532      0.997434      0.998940      1.001096      1.003277   \n",
       "min       -4.300767     -4.894525     -4.377021     -4.535903     -4.182233   \n",
       "25%       -0.675066     -0.680421     -0.671810     -0.677757     -0.671055   \n",
       "50%        0.001024     -0.002053      0.003536     -0.004299      0.006535   \n",
       "75%        0.673344      0.668112      0.678679      0.673859      0.680903   \n",
       "max        4.710316      3.998595      4.490521      4.270708      4.157538   \n",
       "\n",
       "       ...          f_23          f_24          f_25          f_26  \\\n",
       "count  ...  98000.000000  98000.000000  98000.000000  98000.000000   \n",
       "mean   ...     -0.220002      0.166434     -0.064309     -0.062540   \n",
       "std    ...      1.494836      1.543014      1.576086      1.428055   \n",
       "min    ...     -8.234305     -7.792363     -6.593842     -7.375719   \n",
       "25%    ...     -1.203204     -0.903385     -1.128966     -0.975680   \n",
       "50%    ...     -0.219046      0.167074     -0.099221     -0.070852   \n",
       "75%    ...      0.764690      1.217432      0.987684      0.843212   \n",
       "max    ...      6.054831      7.527271      7.544731      7.005608   \n",
       "\n",
       "               f_27          f_28             2             3             4  \\\n",
       "count  98000.000000  98000.000000  98000.000000  98000.000000  98000.000000   \n",
       "mean       0.098472     -0.230910      0.100622      0.109469      0.110173   \n",
       "std        1.305407      1.528476      0.300830      0.312229      0.313107   \n",
       "min       -7.335556     -6.954151      0.000000      0.000000      0.000000   \n",
       "25%       -0.746489     -1.262606      0.000000      0.000000      0.000000   \n",
       "50%        0.082230     -0.271319      0.000000      0.000000      0.000000   \n",
       "75%        0.925306      0.770516      0.000000      0.000000      0.000000   \n",
       "max        7.205971      6.977150      1.000000      1.000000      1.000000   \n",
       "\n",
       "                  5  \n",
       "count  98000.000000  \n",
       "mean       0.105480  \n",
       "std        0.307172  \n",
       "min        0.000000  \n",
       "25%        0.000000  \n",
       "50%        0.000000  \n",
       "75%        0.000000  \n",
       "max        1.000000  \n",
       "\n",
       "[8 rows x 26 columns]"
      ]
     },
     "execution_count": 54,
     "metadata": {},
     "output_type": "execute_result"
    }
   ],
   "source": [
    "from sklearn.preprocessing import StandardScaler, OneHotEncoder, MinMaxScaler\n",
    "from sklearn.compose import make_column_transformer\n",
    "\n",
    "data = data.drop('id', axis = 1)\n",
    "categorical_cols = tuple(f'f_0{i}' if i < 10 else f'f_{i}' for i in range(7, 14))\n",
    "numerical_cols = tuple(col for col in data.columns if col not in categorical_cols)\n",
    "scale = make_column_transformer((OneHotEncoder(), categorical_cols))\n",
    "data_one_hot = pd.DataFrame(scale.fit_transform(data).todense())\n",
    "data_one_hot.columns = data_one_hot.columns.astype(str)\n",
    "data_one_hot = data_one_hot[data_one_hot.columns[(data_one_hot.mean() > 0.1)]] #A bit of a hack, but it removes all of the sparse features from one hot encoding\n",
    "data_norm = pd.concat([data[list(numerical_cols)], data_one_hot], axis=1)\n",
    "data_norm.describe()\n"
   ]
  },
  {
   "attachments": {},
   "cell_type": "markdown",
   "metadata": {},
   "source": [
    "The numerical attributes are only normalized (They already have more or less a normal distribution), the categorical ones are encoded using one hot encoding schema. To reduce the dimensionality of the data (which gets quite big because of the one hot encoding), we only keep the features that have a mean bigger than 0.1 (That includes only the derived features from one hot encoding which are quite sparse)"
   ]
  },
  {
   "attachments": {},
   "cell_type": "markdown",
   "metadata": {},
   "source": [
    "## Clustering"
   ]
  },
  {
   "attachments": {},
   "cell_type": "markdown",
   "metadata": {},
   "source": [
    "KMeans"
   ]
  },
  {
   "cell_type": "code",
   "execution_count": 14,
   "metadata": {},
   "outputs": [
    {
     "name": "stderr",
     "output_type": "stream",
     "text": [
      "/home/ekoha/.local/lib/python3.10/site-packages/sklearn/cluster/_kmeans.py:870: FutureWarning: The default value of `n_init` will change from 10 to 'auto' in 1.4. Set the value of `n_init` explicitly to suppress the warning\n",
      "  warnings.warn(\n"
     ]
    },
    {
     "name": "stdout",
     "output_type": "stream",
     "text": [
      "Sil: 0.42677046581095046, db: 1.2114854377092146, k: 2\n"
     ]
    },
    {
     "name": "stderr",
     "output_type": "stream",
     "text": [
      "/home/ekoha/.local/lib/python3.10/site-packages/sklearn/cluster/_kmeans.py:870: FutureWarning: The default value of `n_init` will change from 10 to 'auto' in 1.4. Set the value of `n_init` explicitly to suppress the warning\n",
      "  warnings.warn(\n"
     ]
    },
    {
     "name": "stdout",
     "output_type": "stream",
     "text": [
      "Sil: 0.5097253501699331, db: 1.162572227925016, k: 3\n"
     ]
    },
    {
     "name": "stderr",
     "output_type": "stream",
     "text": [
      "/home/ekoha/.local/lib/python3.10/site-packages/sklearn/cluster/_kmeans.py:870: FutureWarning: The default value of `n_init` will change from 10 to 'auto' in 1.4. Set the value of `n_init` explicitly to suppress the warning\n",
      "  warnings.warn(\n"
     ]
    },
    {
     "name": "stdout",
     "output_type": "stream",
     "text": [
      "Sil: 0.5849991219745347, db: 1.102587822806199, k: 4\n"
     ]
    },
    {
     "name": "stderr",
     "output_type": "stream",
     "text": [
      "/home/ekoha/.local/lib/python3.10/site-packages/sklearn/cluster/_kmeans.py:870: FutureWarning: The default value of `n_init` will change from 10 to 'auto' in 1.4. Set the value of `n_init` explicitly to suppress the warning\n",
      "  warnings.warn(\n"
     ]
    },
    {
     "name": "stdout",
     "output_type": "stream",
     "text": [
      "Sil: 0.6512663908513662, db: 1.0263216480160815, k: 5\n"
     ]
    },
    {
     "name": "stderr",
     "output_type": "stream",
     "text": [
      "/home/ekoha/.local/lib/python3.10/site-packages/sklearn/cluster/_kmeans.py:870: FutureWarning: The default value of `n_init` will change from 10 to 'auto' in 1.4. Set the value of `n_init` explicitly to suppress the warning\n",
      "  warnings.warn(\n"
     ]
    },
    {
     "name": "stdout",
     "output_type": "stream",
     "text": [
      "Sil: 0.31869202964877913, db: 2.442442344350732, k: 6\n"
     ]
    },
    {
     "name": "stderr",
     "output_type": "stream",
     "text": [
      "/home/ekoha/.local/lib/python3.10/site-packages/sklearn/cluster/_kmeans.py:870: FutureWarning: The default value of `n_init` will change from 10 to 'auto' in 1.4. Set the value of `n_init` explicitly to suppress the warning\n",
      "  warnings.warn(\n"
     ]
    },
    {
     "name": "stdout",
     "output_type": "stream",
     "text": [
      "Sil: 0.31170530539076985, db: 2.5595345922408326, k: 7\n"
     ]
    },
    {
     "name": "stderr",
     "output_type": "stream",
     "text": [
      "/home/ekoha/.local/lib/python3.10/site-packages/sklearn/cluster/_kmeans.py:870: FutureWarning: The default value of `n_init` will change from 10 to 'auto' in 1.4. Set the value of `n_init` explicitly to suppress the warning\n",
      "  warnings.warn(\n"
     ]
    },
    {
     "name": "stdout",
     "output_type": "stream",
     "text": [
      "Sil: 0.307919304879948, db: 2.638218291395119, k: 8\n"
     ]
    },
    {
     "name": "stderr",
     "output_type": "stream",
     "text": [
      "/home/ekoha/.local/lib/python3.10/site-packages/sklearn/cluster/_kmeans.py:870: FutureWarning: The default value of `n_init` will change from 10 to 'auto' in 1.4. Set the value of `n_init` explicitly to suppress the warning\n",
      "  warnings.warn(\n"
     ]
    },
    {
     "name": "stdout",
     "output_type": "stream",
     "text": [
      "Sil: 0.3060660957948118, db: 2.687973837292403, k: 9\n"
     ]
    },
    {
     "name": "stderr",
     "output_type": "stream",
     "text": [
      "/home/ekoha/.local/lib/python3.10/site-packages/sklearn/cluster/_kmeans.py:870: FutureWarning: The default value of `n_init` will change from 10 to 'auto' in 1.4. Set the value of `n_init` explicitly to suppress the warning\n",
      "  warnings.warn(\n"
     ]
    },
    {
     "name": "stdout",
     "output_type": "stream",
     "text": [
      "Sil: 0.23854821247912017, db: 3.3737233291605806, k: 10\n"
     ]
    },
    {
     "name": "stderr",
     "output_type": "stream",
     "text": [
      "/home/ekoha/.local/lib/python3.10/site-packages/sklearn/cluster/_kmeans.py:870: FutureWarning: The default value of `n_init` will change from 10 to 'auto' in 1.4. Set the value of `n_init` explicitly to suppress the warning\n",
      "  warnings.warn(\n"
     ]
    },
    {
     "ename": "KeyboardInterrupt",
     "evalue": "",
     "output_type": "error",
     "traceback": [
      "\u001b[0;31m---------------------------------------------------------------------------\u001b[0m",
      "\u001b[0;31mKeyboardInterrupt\u001b[0m                         Traceback (most recent call last)",
      "Cell \u001b[0;32mIn[14], line 13\u001b[0m\n\u001b[1;32m     11\u001b[0m model \u001b[39m=\u001b[39m KMeans(n_clusters\u001b[39m=\u001b[39mk)\u001b[39m.\u001b[39mfit(X_train)\n\u001b[1;32m     12\u001b[0m res \u001b[39m=\u001b[39m model\u001b[39m.\u001b[39mpredict(X_test)\n\u001b[0;32m---> 13\u001b[0m sil_score \u001b[39m=\u001b[39m silhouette_score(X_test, res, metric\u001b[39m=\u001b[39;49m\u001b[39m'\u001b[39;49m\u001b[39mcorrelation\u001b[39;49m\u001b[39m'\u001b[39;49m)\n\u001b[1;32m     14\u001b[0m db_index_score \u001b[39m=\u001b[39m davies_bouldin_score(X_test, res)\n\u001b[1;32m     15\u001b[0m sil_scores\u001b[39m.\u001b[39mappend(sil_score)\n",
      "File \u001b[0;32m~/.local/lib/python3.10/site-packages/sklearn/metrics/cluster/_unsupervised.py:117\u001b[0m, in \u001b[0;36msilhouette_score\u001b[0;34m(X, labels, metric, sample_size, random_state, **kwds)\u001b[0m\n\u001b[1;32m    115\u001b[0m     \u001b[39melse\u001b[39;00m:\n\u001b[1;32m    116\u001b[0m         X, labels \u001b[39m=\u001b[39m X[indices], labels[indices]\n\u001b[0;32m--> 117\u001b[0m \u001b[39mreturn\u001b[39;00m np\u001b[39m.\u001b[39mmean(silhouette_samples(X, labels, metric\u001b[39m=\u001b[39;49mmetric, \u001b[39m*\u001b[39;49m\u001b[39m*\u001b[39;49mkwds))\n",
      "File \u001b[0;32m~/.local/lib/python3.10/site-packages/sklearn/metrics/cluster/_unsupervised.py:237\u001b[0m, in \u001b[0;36msilhouette_samples\u001b[0;34m(X, labels, metric, **kwds)\u001b[0m\n\u001b[1;32m    233\u001b[0m kwds[\u001b[39m\"\u001b[39m\u001b[39mmetric\u001b[39m\u001b[39m\"\u001b[39m] \u001b[39m=\u001b[39m metric\n\u001b[1;32m    234\u001b[0m reduce_func \u001b[39m=\u001b[39m functools\u001b[39m.\u001b[39mpartial(\n\u001b[1;32m    235\u001b[0m     _silhouette_reduce, labels\u001b[39m=\u001b[39mlabels, label_freqs\u001b[39m=\u001b[39mlabel_freqs\n\u001b[1;32m    236\u001b[0m )\n\u001b[0;32m--> 237\u001b[0m results \u001b[39m=\u001b[39m \u001b[39mzip\u001b[39;49m(\u001b[39m*\u001b[39;49mpairwise_distances_chunked(X, reduce_func\u001b[39m=\u001b[39;49mreduce_func, \u001b[39m*\u001b[39;49m\u001b[39m*\u001b[39;49mkwds))\n\u001b[1;32m    238\u001b[0m intra_clust_dists, inter_clust_dists \u001b[39m=\u001b[39m results\n\u001b[1;32m    239\u001b[0m intra_clust_dists \u001b[39m=\u001b[39m np\u001b[39m.\u001b[39mconcatenate(intra_clust_dists)\n",
      "File \u001b[0;32m~/.local/lib/python3.10/site-packages/sklearn/metrics/pairwise.py:1867\u001b[0m, in \u001b[0;36mpairwise_distances_chunked\u001b[0;34m(X, Y, reduce_func, metric, n_jobs, working_memory, **kwds)\u001b[0m\n\u001b[1;32m   1865\u001b[0m \u001b[39melse\u001b[39;00m:\n\u001b[1;32m   1866\u001b[0m     X_chunk \u001b[39m=\u001b[39m X[sl]\n\u001b[0;32m-> 1867\u001b[0m D_chunk \u001b[39m=\u001b[39m pairwise_distances(X_chunk, Y, metric\u001b[39m=\u001b[39;49mmetric, n_jobs\u001b[39m=\u001b[39;49mn_jobs, \u001b[39m*\u001b[39;49m\u001b[39m*\u001b[39;49mkwds)\n\u001b[1;32m   1868\u001b[0m \u001b[39mif\u001b[39;00m (X \u001b[39mis\u001b[39;00m Y \u001b[39mor\u001b[39;00m Y \u001b[39mis\u001b[39;00m \u001b[39mNone\u001b[39;00m) \u001b[39mand\u001b[39;00m PAIRWISE_DISTANCE_FUNCTIONS\u001b[39m.\u001b[39mget(\n\u001b[1;32m   1869\u001b[0m     metric, \u001b[39mNone\u001b[39;00m\n\u001b[1;32m   1870\u001b[0m ) \u001b[39mis\u001b[39;00m euclidean_distances:\n\u001b[1;32m   1871\u001b[0m     \u001b[39m# zeroing diagonal, taking care of aliases of \"euclidean\",\u001b[39;00m\n\u001b[1;32m   1872\u001b[0m     \u001b[39m# i.e. \"l2\"\u001b[39;00m\n\u001b[1;32m   1873\u001b[0m     D_chunk\u001b[39m.\u001b[39mflat[sl\u001b[39m.\u001b[39mstart :: _num_samples(X) \u001b[39m+\u001b[39m \u001b[39m1\u001b[39m] \u001b[39m=\u001b[39m \u001b[39m0\u001b[39m\n",
      "File \u001b[0;32m~/.local/lib/python3.10/site-packages/sklearn/metrics/pairwise.py:2039\u001b[0m, in \u001b[0;36mpairwise_distances\u001b[0;34m(X, Y, metric, n_jobs, force_all_finite, **kwds)\u001b[0m\n\u001b[1;32m   2036\u001b[0m         \u001b[39mreturn\u001b[39;00m distance\u001b[39m.\u001b[39msquareform(distance\u001b[39m.\u001b[39mpdist(X, metric\u001b[39m=\u001b[39mmetric, \u001b[39m*\u001b[39m\u001b[39m*\u001b[39mkwds))\n\u001b[1;32m   2037\u001b[0m     func \u001b[39m=\u001b[39m partial(distance\u001b[39m.\u001b[39mcdist, metric\u001b[39m=\u001b[39mmetric, \u001b[39m*\u001b[39m\u001b[39m*\u001b[39mkwds)\n\u001b[0;32m-> 2039\u001b[0m \u001b[39mreturn\u001b[39;00m _parallel_pairwise(X, Y, func, n_jobs, \u001b[39m*\u001b[39;49m\u001b[39m*\u001b[39;49mkwds)\n",
      "File \u001b[0;32m~/.local/lib/python3.10/site-packages/sklearn/metrics/pairwise.py:1579\u001b[0m, in \u001b[0;36m_parallel_pairwise\u001b[0;34m(X, Y, func, n_jobs, **kwds)\u001b[0m\n\u001b[1;32m   1576\u001b[0m X, Y, dtype \u001b[39m=\u001b[39m _return_float_dtype(X, Y)\n\u001b[1;32m   1578\u001b[0m \u001b[39mif\u001b[39;00m effective_n_jobs(n_jobs) \u001b[39m==\u001b[39m \u001b[39m1\u001b[39m:\n\u001b[0;32m-> 1579\u001b[0m     \u001b[39mreturn\u001b[39;00m func(X, Y, \u001b[39m*\u001b[39;49m\u001b[39m*\u001b[39;49mkwds)\n\u001b[1;32m   1581\u001b[0m \u001b[39m# enforce a threading backend to prevent data communication overhead\u001b[39;00m\n\u001b[1;32m   1582\u001b[0m fd \u001b[39m=\u001b[39m delayed(_dist_wrapper)\n",
      "File \u001b[0;32m~/.local/lib/python3.10/site-packages/scipy/spatial/distance.py:2939\u001b[0m, in \u001b[0;36mcdist\u001b[0;34m(XA, XB, metric, out, **kwargs)\u001b[0m\n\u001b[1;32m   2937\u001b[0m \u001b[39mif\u001b[39;00m metric_info \u001b[39mis\u001b[39;00m \u001b[39mnot\u001b[39;00m \u001b[39mNone\u001b[39;00m:\n\u001b[1;32m   2938\u001b[0m     cdist_fn \u001b[39m=\u001b[39m metric_info\u001b[39m.\u001b[39mcdist_func\n\u001b[0;32m-> 2939\u001b[0m     \u001b[39mreturn\u001b[39;00m cdist_fn(XA, XB, out\u001b[39m=\u001b[39;49mout, \u001b[39m*\u001b[39;49m\u001b[39m*\u001b[39;49mkwargs)\n\u001b[1;32m   2940\u001b[0m \u001b[39melif\u001b[39;00m mstr\u001b[39m.\u001b[39mstartswith(\u001b[39m\"\u001b[39m\u001b[39mtest_\u001b[39m\u001b[39m\"\u001b[39m):\n\u001b[1;32m   2941\u001b[0m     metric_info \u001b[39m=\u001b[39m _TEST_METRICS\u001b[39m.\u001b[39mget(mstr, \u001b[39mNone\u001b[39;00m)\n",
      "File \u001b[0;32m~/.local/lib/python3.10/site-packages/scipy/spatial/distance.py:1667\u001b[0m, in \u001b[0;36mCDistMetricWrapper.__call__\u001b[0;34m(self, XA, XB, out, **kwargs)\u001b[0m\n\u001b[1;32m   1665\u001b[0m \u001b[39m# get cdist wrapper\u001b[39;00m\n\u001b[1;32m   1666\u001b[0m cdist_fn \u001b[39m=\u001b[39m \u001b[39mgetattr\u001b[39m(_distance_wrap, \u001b[39mf\u001b[39m\u001b[39m'\u001b[39m\u001b[39mcdist_\u001b[39m\u001b[39m{\u001b[39;00mmetric_name\u001b[39m}\u001b[39;00m\u001b[39m_\u001b[39m\u001b[39m{\u001b[39;00mtyp\u001b[39m}\u001b[39;00m\u001b[39m_wrap\u001b[39m\u001b[39m'\u001b[39m)\n\u001b[0;32m-> 1667\u001b[0m cdist_fn(XA, XB, dm, \u001b[39m*\u001b[39;49m\u001b[39m*\u001b[39;49mkwargs)\n\u001b[1;32m   1668\u001b[0m \u001b[39mreturn\u001b[39;00m dm\n",
      "File \u001b[0;32m~/.local/lib/python3.10/site-packages/scipy/spatial/distance.py:138\u001b[0m, in \u001b[0;36m_correlation_cdist_wrap\u001b[0;34m(XA, XB, dm, **kwargs)\u001b[0m\n\u001b[1;32m    136\u001b[0m XA \u001b[39m=\u001b[39m XA \u001b[39m-\u001b[39m XA\u001b[39m.\u001b[39mmean(axis\u001b[39m=\u001b[39m\u001b[39m1\u001b[39m, keepdims\u001b[39m=\u001b[39m\u001b[39mTrue\u001b[39;00m)\n\u001b[1;32m    137\u001b[0m XB \u001b[39m=\u001b[39m XB \u001b[39m-\u001b[39m XB\u001b[39m.\u001b[39mmean(axis\u001b[39m=\u001b[39m\u001b[39m1\u001b[39m, keepdims\u001b[39m=\u001b[39m\u001b[39mTrue\u001b[39;00m)\n\u001b[0;32m--> 138\u001b[0m _distance_wrap\u001b[39m.\u001b[39;49mcdist_cosine_double_wrap(XA, XB, dm, \u001b[39m*\u001b[39;49m\u001b[39m*\u001b[39;49mkwargs)\n",
      "\u001b[0;31mKeyboardInterrupt\u001b[0m: "
     ]
    }
   ],
   "source": [
    "from sklearn.metrics import silhouette_score, davies_bouldin_score\n",
    "from sklearn.cluster import KMeans\n",
    "from sklearn.model_selection import train_test_split\n",
    "\n",
    "X_train, X_test = train_test_split(data_norm)\n",
    "cluster_range = range(2, 25)\n",
    "db_index_scores = []\n",
    "sil_scores = []\n",
    "\n",
    "for k in cluster_range:\n",
    "    model = KMeans(n_clusters=k).fit(X_train)\n",
    "    res = model.predict(X_test)\n",
    "    sil_score = silhouette_score(X_test, res, metric='correlation')\n",
    "    db_index_score = davies_bouldin_score(X_test, res)\n",
    "    sil_scores.append(sil_score)\n",
    "    db_index_scores.append(db_index_score)\n",
    "    print(f'Sil: {sil_score}, db: {db_index_score}, k: {k}')"
   ]
  },
  {
   "cell_type": "code",
   "execution_count": 54,
   "metadata": {},
   "outputs": [
    {
     "data": {
      "image/png": "[encoded data removed]",
      "text/plain": [
       "<Figure size 640x480 with 1 Axes>"
      ]
     },
     "metadata": {},
     "output_type": "display_data"
    }
   ],
   "source": [
    "%matplotlib inline\n",
    "import matplotlib.pyplot as plt\n",
    "\n",
    "plt.clf()\n",
    "plt.plot(cluster_range, db_index_scores)\n",
    "plt.plot(cluster_range, sil_scores)\n",
    "plt.savefig('clusters_metrics_kmeans.png')"
   ]
  },
  {
   "attachments": {},
   "cell_type": "markdown",
   "metadata": {},
   "source": [
    "DBScan"
   ]
  },
  {
   "cell_type": "code",
   "execution_count": 4,
   "metadata": {},
   "outputs": [
    {
     "name": "stdout",
     "output_type": "stream",
     "text": [
      "Sil: -0.612157177538098, db: 1.7171654844010782, eps: 0.01, n_samples: 2\n",
      "Sil: 0.6074138193503347, db: 2.814246390936846, eps: 0.02, n_samples: 2\n",
      "Sil: 0.6389537748221623, db: 1.3215036493380001, eps: 0.03, n_samples: 2\n",
      "Sil: 0.6479761760544966, db: 1.025386667056388, eps: 0.04, n_samples: 2\n",
      "Sil: 0.6479761760544966, db: 1.025386667056388, eps: 0.05, n_samples: 2\n",
      "Sil: 0.6479761760544966, db: 1.025386667056388, eps: 0.060000000000000005, n_samples: 2\n",
      "Wrong number of clusters\n",
      "Wrong number of clusters\n",
      "Wrong number of clusters\n",
      "Wrong number of clusters\n",
      "Sil: -0.6074444044972813, db: 1.9977908709028558, eps: 0.01, n_samples: 3\n",
      "Sil: 0.6074138193503347, db: 2.814246390936846, eps: 0.02, n_samples: 3\n",
      "Sil: 0.6389537748221623, db: 1.3215036493380001, eps: 0.03, n_samples: 3\n",
      "Sil: 0.6479761760544966, db: 1.025386667056388, eps: 0.04, n_samples: 3\n",
      "Sil: 0.6479761760544966, db: 1.025386667056388, eps: 0.05, n_samples: 3\n",
      "Sil: 0.6479761760544966, db: 1.025386667056388, eps: 0.060000000000000005, n_samples: 3\n",
      "Wrong number of clusters\n",
      "Wrong number of clusters\n",
      "Wrong number of clusters\n",
      "Wrong number of clusters\n",
      "Sil: -0.5944219434917026, db: 2.165014894904088, eps: 0.01, n_samples: 4\n",
      "Sil: 0.6063747948535521, db: 2.820768568528307, eps: 0.02, n_samples: 4\n",
      "Sil: 0.6389537748221623, db: 1.3215036493380001, eps: 0.03, n_samples: 4\n",
      "Sil: 0.6479761760544966, db: 1.025386667056388, eps: 0.04, n_samples: 4\n",
      "Sil: 0.6479761760544966, db: 1.025386667056388, eps: 0.05, n_samples: 4\n",
      "Sil: 0.6479761760544966, db: 1.025386667056388, eps: 0.060000000000000005, n_samples: 4\n",
      "Wrong number of clusters\n",
      "Wrong number of clusters\n",
      "Wrong number of clusters\n",
      "Wrong number of clusters\n",
      "Sil: -0.5882722832032716, db: 2.2878873444128045, eps: 0.01, n_samples: 5\n",
      "Sil: 0.6055574872725717, db: 2.8279478375089435, eps: 0.02, n_samples: 5\n",
      "Sil: 0.6389537748221623, db: 1.3215036493380001, eps: 0.03, n_samples: 5\n",
      "Sil: 0.6479761760544966, db: 1.025386667056388, eps: 0.04, n_samples: 5\n",
      "Sil: 0.6479761760544966, db: 1.025386667056388, eps: 0.05, n_samples: 5\n",
      "Sil: 0.6479761760544966, db: 1.025386667056388, eps: 0.060000000000000005, n_samples: 5\n",
      "Wrong number of clusters\n",
      "Wrong number of clusters\n",
      "Wrong number of clusters\n",
      "Wrong number of clusters\n"
     ]
    }
   ],
   "source": [
    "from sklearn.cluster import DBSCAN\n",
    "from sklearn.metrics import silhouette_score, davies_bouldin_score\n",
    "from sklearn.model_selection import train_test_split\n",
    "import numpy as np\n",
    "\n",
    "eps = 0.01\n",
    "eps_step = 0.01\n",
    "samples_range = range(2, 6)\n",
    "db_index_scores = []\n",
    "sil_scores = []\n",
    "trunc_data, _ = train_test_split(data_norm, test_size = 0.8) # Kernel dies without reducing the amount of rows\n",
    "\n",
    "for n_samples in samples_range:\n",
    "    eps = 0.01\n",
    "    while eps <= 0.1:\n",
    "        model = DBSCAN(eps = eps, min_samples=n_samples, metric = 'cosine').fit(trunc_data)\n",
    "        res = model.labels_\n",
    "        if len(np.unique(res)) > 1:\n",
    "            sil_score = silhouette_score(trunc_data, res, metric='cosine')\n",
    "            db_index_score = davies_bouldin_score(trunc_data, res)\n",
    "            sil_scores.append((eps, n_samples, sil_score))\n",
    "            db_index_scores.append((eps, n_samples, db_index_score))\n",
    "            print(f'Sil: {sil_score}, db: {db_index_score}, eps: {eps}, n_samples: {n_samples}')\n",
    "        else:\n",
    "            print(\"Wrong number of clusters\")\n",
    "        eps += eps_step"
   ]
  },
  {
   "attachments": {},
   "cell_type": "markdown",
   "metadata": {},
   "source": [
    "# Cluster numbers worth trying: 2 - 5 with 5 being seemingly the best"
   ]
  },
  {
   "attachments": {},
   "cell_type": "markdown",
   "metadata": {},
   "source": [
    "# DBSCAN: Anything with eps between 0.04 and 0.06 seems good, no matter the min_samples"
   ]
  },
  {
   "attachments": {},
   "cell_type": "markdown",
   "metadata": {},
   "source": [
    "## Model Training"
   ]
  },
  {
   "cell_type": "code",
   "execution_count": 55,
   "metadata": {},
   "outputs": [
    {
     "name": "stderr",
     "output_type": "stream",
     "text": [
      "/home/ekoha/.local/lib/python3.10/site-packages/sklearn/cluster/_kmeans.py:870: FutureWarning: The default value of `n_init` will change from 10 to 'auto' in 1.4. Set the value of `n_init` explicitly to suppress the warning\n",
      "  warnings.warn(\n",
      "/home/ekoha/.local/lib/python3.10/site-packages/sklearn/cluster/_kmeans.py:870: FutureWarning: The default value of `n_init` will change from 10 to 'auto' in 1.4. Set the value of `n_init` explicitly to suppress the warning\n",
      "  warnings.warn(\n",
      "/home/ekoha/.local/lib/python3.10/site-packages/sklearn/cluster/_kmeans.py:870: FutureWarning: The default value of `n_init` will change from 10 to 'auto' in 1.4. Set the value of `n_init` explicitly to suppress the warning\n",
      "  warnings.warn(\n",
      "/home/ekoha/.local/lib/python3.10/site-packages/sklearn/cluster/_kmeans.py:870: FutureWarning: The default value of `n_init` will change from 10 to 'auto' in 1.4. Set the value of `n_init` explicitly to suppress the warning\n",
      "  warnings.warn(\n"
     ]
    }
   ],
   "source": [
    "from sklearn.cluster import DBSCAN, KMeans\n",
    "from sklearn.model_selection import train_test_split\n",
    "\n",
    "kmeans_cluster_data = (2, 3, 4, 5)\n",
    "dbscan_eps = (0.04, 0.05, 0.06)\n",
    "dbscan_samples = (2, 3, 4, 5, 6)\n",
    "\n",
    "kmeans_models = {}\n",
    "dbscan_models = {}\n",
    "\n",
    "for k in kmeans_cluster_data:\n",
    "    kmeans_models[k] = KMeans(n_clusters=k).fit(data_norm)\n",
    "\n",
    "trunc_data, _ = train_test_split(data_norm, train_size=0.1)\n",
    "for n_samples in dbscan_samples:\n",
    "    for eps in dbscan_eps:\n",
    "        dbscan_models[(n_samples, eps)] = DBSCAN(eps = eps, min_samples = n_samples, metric='cosine').fit(trunc_data)"
   ]
  },
  {
   "attachments": {},
   "cell_type": "markdown",
   "metadata": {},
   "source": [
    "## Model visualisation"
   ]
  },
  {
   "cell_type": "code",
   "execution_count": 16,
   "metadata": {},
   "outputs": [],
   "source": [
    "from sklearn.metrics.pairwise import cosine_similarity\n",
    "import numpy as np\n",
    "\n",
    "def cluster_sim(cluster1, cluster2, method = 'average', type = cosine_similarity):\n",
    "    if method == 'average':\n",
    "        average_cluster1 = cluster1.mean().values[:-1].reshape(1, -1)\n",
    "        average_cluster2 = cluster2.mean().values[:-1].reshape(1, -1)\n",
    "        return type(average_cluster1, average_cluster2)\n",
    "    elif method == 'complete':\n",
    "        sim_matrix = type(cluster1.values[:-1], cluster2.values[:-1])\n",
    "        return np.min(sim_matrix)\n",
    "    elif method == 'single':\n",
    "        sim_matrix = type(cluster1.values[:-1], cluster2.values[:-1])\n",
    "        return np.max(sim_matrix)\n",
    "        "
   ]
  },
  {
   "cell_type": "code",
   "execution_count": 17,
   "metadata": {},
   "outputs": [],
   "source": [
    "def similarity_matrix(data_with_cluster_info, similarity_method = 'average', similarity_type = cosine_similarity):\n",
    "    clusters = np.unique(data_with_cluster_info['Cluster'])\n",
    "    sim_matrix = np.diag(np.ones(len(clusters)))\n",
    "    for cluster1_index in clusters:\n",
    "        cluster1 = data_with_cluster_info[data_with_cluster_info['Cluster'] == cluster1_index]\n",
    "        for cluster2_index in clusters:\n",
    "            if cluster1_index >= cluster2_index:\n",
    "                continue\n",
    "            cluster2 = data_with_cluster_info[data_with_cluster_info['Cluster'] == cluster2_index]\n",
    "            sim = cluster_sim(cluster1, cluster2, similarity_method, similarity_type)\n",
    "            sim_matrix[cluster1_index][cluster2_index] = sim\n",
    "            sim_matrix[cluster2_index][cluster1_index] = sim\n",
    "    return sim_matrix\n",
    "\n"
   ]
  },
  {
   "cell_type": "code",
   "execution_count": 57,
   "metadata": {},
   "outputs": [
    {
     "data": {
      "text/plain": [
       "<Axes: >"
      ]
     },
     "execution_count": 57,
     "metadata": {},
     "output_type": "execute_result"
    },
    {
     "data": {
      "image/png": "[encoded data removed]",
      "text/plain": [
       "<Figure size 640x480 with 2 Axes>"
      ]
     },
     "metadata": {},
     "output_type": "display_data"
    }
   ],
   "source": [
    "import seaborn as sns\n",
    "from sklearn.metrics.pairwise import euclidean_distances, pairwise_distances\n",
    "\n",
    "data_plot = trunc_data.copy()\n",
    "labels = kmeans_models[5].predict(data_plot)\n",
    "data_plot['Cluster'] = labels\n",
    "cluster1 = data_plot[data_plot['Cluster'] == 1]\n",
    "cluster2 = data_plot[data_plot['Cluster'] == 2]\n",
    "matrix = similarity_matrix(data_plot, similarity_type=lambda x, y: cosine_similarity(x, y))\n",
    "sns.heatmap(matrix)"
   ]
  },
  {
   "cell_type": "code",
   "execution_count": 31,
   "metadata": {},
   "outputs": [
    {
     "data": {
      "text/plain": [
       "0     0.011822\n",
       "1     0.013771\n",
       "2     0.012554\n",
       "3     0.014150\n",
       "4     0.013647\n",
       "5     0.012328\n",
       "6     0.012579\n",
       "7     0.012690\n",
       "8     0.012922\n",
       "9     0.014472\n",
       "10    0.013246\n",
       "11    0.012636\n",
       "12    0.011285\n",
       "13    0.012064\n",
       "14    0.013596\n",
       "15    0.012178\n",
       "16    0.010944\n",
       "17    0.010145\n",
       "18    0.012426\n",
       "19    0.009860\n",
       "20    0.008059\n",
       "21    0.012037\n",
       "24    0.090498\n",
       "25    0.097487\n",
       "26    0.098036\n",
       "27    0.094355\n",
       "dtype: float64"
      ]
     },
     "execution_count": 31,
     "metadata": {},
     "output_type": "execute_result"
    }
   ],
   "source": [
    "data_norm.std()**2"
   ]
  },
  {
   "cell_type": "code",
   "execution_count": 65,
   "metadata": {},
   "outputs": [
    {
     "name": "stdout",
     "output_type": "stream",
     "text": [
      "Threshold=0.02 Num features: 7, ['f_22', 'f_23', 'f_24', 'f_25', 'f_26', 'f_27', 'f_28']\n",
      "Threshold=0.03 Num features: 6, ['f_22', 'f_24', 'f_25', 'f_26', 'f_27', 'f_28']\n",
      "Threshold=0.04 Num features: 4, ['f_22', 'f_24', 'f_25', 'f_28']\n",
      "Threshold=0.05 Num features: 4, ['f_22', 'f_24', 'f_25', 'f_28']\n",
      "Threshold=0.06 Num features: 4, ['f_22', 'f_24', 'f_25', 'f_28']\n",
      "Threshold=0.07 Num features: 4, ['f_22', 'f_24', 'f_25', 'f_28']\n",
      "Threshold=0.08 Num features: 4, ['f_22', 'f_24', 'f_25', 'f_28']\n",
      "Threshold=0.09 Num features: 4, ['f_22', 'f_24', 'f_25', 'f_28']\n",
      "Threshold=0.10 Num features: 4, ['f_22', 'f_24', 'f_25', 'f_28']\n",
      "Threshold=0.11 Num features: 4, ['f_22', 'f_24', 'f_25', 'f_28']\n",
      "Threshold=0.12 Num features: 3, ['f_24', 'f_25', 'f_28']\n"
     ]
    }
   ],
   "source": [
    "from sklearn.feature_selection import SelectFromModel\n",
    "from sklearn.linear_model import LassoCV\n",
    "from itertools import compress\n",
    "\n",
    "clf = LassoCV(cv=10)\n",
    "\n",
    "sfm = SelectFromModel(clf, threshold=0.01)\n",
    "labels = kmeans_models[5].predict(data_norm)\n",
    "sfm.fit(data_norm, labels)\n",
    "n_rows, n_features = sfm.transform(data_norm).shape\n",
    "\n",
    "while n_features > 3:\n",
    "    sfm.threshold += 0.01\n",
    "    data_new = sfm.transform(data_norm)\n",
    "    n_rows, n_features = data_new.shape\n",
    "    \n",
    "    feature_names = compress(data_norm.columns, sfm.get_support())\n",
    "    print(f'Threshold={sfm.threshold:.2f} Num features: {n_features}, {list(feature_names)}')\n",
    "\n",
    "feature1 = data_new[:, 0]\n",
    "feature2 = data_new[:, 1]\n",
    "feature3 = data_new[:, 2]"
   ]
  },
  {
   "cell_type": "code",
   "execution_count": 68,
   "metadata": {},
   "outputs": [
    {
     "name": "stderr",
     "output_type": "stream",
     "text": [
      "/home/ekoha/.local/lib/python3.10/site-packages/matplotlib/collections.py:963: RuntimeWarning: invalid value encountered in sqrt\n",
      "  scale = np.sqrt(self._sizes) * dpi / 72.0 * self._factor\n"
     ]
    },
    {
     "ename": "KeyboardInterrupt",
     "evalue": "",
     "output_type": "error",
     "traceback": [
      "\u001b[0;31m---------------------------------------------------------------------------\u001b[0m",
      "\u001b[0;31mKeyboardInterrupt\u001b[0m                         Traceback (most recent call last)",
      "Cell \u001b[0;32mIn[68], line 8\u001b[0m\n\u001b[1;32m      5\u001b[0m     \u001b[39mfor\u001b[39;00m l \u001b[39min\u001b[39;00m labels:\n\u001b[1;32m      6\u001b[0m         plt\u001b[39m.\u001b[39mscatter(feature1[labels \u001b[39m==\u001b[39m \u001b[39m0\u001b[39m], feature2[labels \u001b[39m==\u001b[39m \u001b[39m0\u001b[39m], feature3[labels \u001b[39m==\u001b[39m \u001b[39m0\u001b[39m], c\u001b[39m=\u001b[39mcols[l\u001b[39m%\u001b[39m\u001b[39mlen\u001b[39m(cols)])\n\u001b[0;32m----> 8\u001b[0m display_clustering(feature1, feature2, feature3, labels)\n",
      "Cell \u001b[0;32mIn[68], line 6\u001b[0m, in \u001b[0;36mdisplay_clustering\u001b[0;34m(feature1, feature2, feature3, labels)\u001b[0m\n\u001b[1;32m      4\u001b[0m cols \u001b[39m=\u001b[39m (\u001b[39m'\u001b[39m\u001b[39mc\u001b[39m\u001b[39m'\u001b[39m, \u001b[39m'\u001b[39m\u001b[39my\u001b[39m\u001b[39m'\u001b[39m, \u001b[39m'\u001b[39m\u001b[39mr\u001b[39m\u001b[39m'\u001b[39m, \u001b[39m'\u001b[39m\u001b[39mg\u001b[39m\u001b[39m'\u001b[39m, \u001b[39m'\u001b[39m\u001b[39mb\u001b[39m\u001b[39m'\u001b[39m)\n\u001b[1;32m      5\u001b[0m \u001b[39mfor\u001b[39;00m l \u001b[39min\u001b[39;00m labels:\n\u001b[0;32m----> 6\u001b[0m     plt\u001b[39m.\u001b[39;49mscatter(feature1[labels \u001b[39m==\u001b[39;49m \u001b[39m0\u001b[39;49m], feature2[labels \u001b[39m==\u001b[39;49m \u001b[39m0\u001b[39;49m], feature3[labels \u001b[39m==\u001b[39;49m \u001b[39m0\u001b[39;49m], c\u001b[39m=\u001b[39;49mcols[l\u001b[39m%\u001b[39;49m\u001b[39mlen\u001b[39;49m(cols)])\n",
      "File \u001b[0;32m~/.local/lib/python3.10/site-packages/matplotlib/pyplot.py:2867\u001b[0m, in \u001b[0;36mscatter\u001b[0;34m(x, y, s, c, marker, cmap, norm, vmin, vmax, alpha, linewidths, edgecolors, plotnonfinite, data, **kwargs)\u001b[0m\n\u001b[1;32m   2857\u001b[0m \u001b[39m@_copy_docstring_and_deprecators\u001b[39m(Axes\u001b[39m.\u001b[39mscatter)\n\u001b[1;32m   2858\u001b[0m \u001b[39mdef\u001b[39;00m \u001b[39mscatter\u001b[39m(\n\u001b[1;32m   2859\u001b[0m         x, y, s\u001b[39m=\u001b[39m\u001b[39mNone\u001b[39;00m, c\u001b[39m=\u001b[39m\u001b[39mNone\u001b[39;00m, marker\u001b[39m=\u001b[39m\u001b[39mNone\u001b[39;00m, cmap\u001b[39m=\u001b[39m\u001b[39mNone\u001b[39;00m, norm\u001b[39m=\u001b[39m\u001b[39mNone\u001b[39;00m,\n\u001b[1;32m   2860\u001b[0m         vmin\u001b[39m=\u001b[39m\u001b[39mNone\u001b[39;00m, vmax\u001b[39m=\u001b[39m\u001b[39mNone\u001b[39;00m, alpha\u001b[39m=\u001b[39m\u001b[39mNone\u001b[39;00m, linewidths\u001b[39m=\u001b[39m\u001b[39mNone\u001b[39;00m, \u001b[39m*\u001b[39m,\n\u001b[1;32m   2861\u001b[0m         edgecolors\u001b[39m=\u001b[39m\u001b[39mNone\u001b[39;00m, plotnonfinite\u001b[39m=\u001b[39m\u001b[39mFalse\u001b[39;00m, data\u001b[39m=\u001b[39m\u001b[39mNone\u001b[39;00m, \u001b[39m*\u001b[39m\u001b[39m*\u001b[39mkwargs):\n\u001b[1;32m   2862\u001b[0m     __ret \u001b[39m=\u001b[39m gca()\u001b[39m.\u001b[39mscatter(\n\u001b[1;32m   2863\u001b[0m         x, y, s\u001b[39m=\u001b[39ms, c\u001b[39m=\u001b[39mc, marker\u001b[39m=\u001b[39mmarker, cmap\u001b[39m=\u001b[39mcmap, norm\u001b[39m=\u001b[39mnorm,\n\u001b[1;32m   2864\u001b[0m         vmin\u001b[39m=\u001b[39mvmin, vmax\u001b[39m=\u001b[39mvmax, alpha\u001b[39m=\u001b[39malpha, linewidths\u001b[39m=\u001b[39mlinewidths,\n\u001b[1;32m   2865\u001b[0m         edgecolors\u001b[39m=\u001b[39medgecolors, plotnonfinite\u001b[39m=\u001b[39mplotnonfinite,\n\u001b[1;32m   2866\u001b[0m         \u001b[39m*\u001b[39m\u001b[39m*\u001b[39m({\u001b[39m\"\u001b[39m\u001b[39mdata\u001b[39m\u001b[39m\"\u001b[39m: data} \u001b[39mif\u001b[39;00m data \u001b[39mis\u001b[39;00m \u001b[39mnot\u001b[39;00m \u001b[39mNone\u001b[39;00m \u001b[39melse\u001b[39;00m {}), \u001b[39m*\u001b[39m\u001b[39m*\u001b[39mkwargs)\n\u001b[0;32m-> 2867\u001b[0m     sci(__ret)\n\u001b[1;32m   2868\u001b[0m     \u001b[39mreturn\u001b[39;00m __ret\n",
      "File \u001b[0;32m~/.local/lib/python3.10/site-packages/matplotlib/pyplot.py:3078\u001b[0m, in \u001b[0;36msci\u001b[0;34m(im)\u001b[0m\n\u001b[1;32m   3076\u001b[0m \u001b[39m@_copy_docstring_and_deprecators\u001b[39m(Axes\u001b[39m.\u001b[39m_sci)\n\u001b[1;32m   3077\u001b[0m \u001b[39mdef\u001b[39;00m \u001b[39msci\u001b[39m(im):\n\u001b[0;32m-> 3078\u001b[0m     \u001b[39mreturn\u001b[39;00m gca()\u001b[39m.\u001b[39;49m_sci(im)\n",
      "\u001b[0;31mKeyboardInterrupt\u001b[0m: "
     ]
    },
    {
     "name": "stdout",
     "output_type": "stream",
     "text": [
      "Error in callback <function _draw_all_if_interactive at 0x7f152ec4bb50> (for post_execute):\n"
     ]
    },
    {
     "ename": "KeyboardInterrupt",
     "evalue": "",
     "output_type": "error",
     "traceback": [
      "\u001b[0;31m---------------------------------------------------------------------------\u001b[0m",
      "\u001b[0;31mKeyboardInterrupt\u001b[0m                         Traceback (most recent call last)",
      "File \u001b[0;32m~/.local/lib/python3.10/site-packages/matplotlib/pyplot.py:120\u001b[0m, in \u001b[0;36m_draw_all_if_interactive\u001b[0;34m()\u001b[0m\n\u001b[1;32m    118\u001b[0m \u001b[39mdef\u001b[39;00m \u001b[39m_draw_all_if_interactive\u001b[39m():\n\u001b[1;32m    119\u001b[0m     \u001b[39mif\u001b[39;00m matplotlib\u001b[39m.\u001b[39mis_interactive():\n\u001b[0;32m--> 120\u001b[0m         draw_all()\n",
      "File \u001b[0;32m~/.local/lib/python3.10/site-packages/matplotlib/_pylab_helpers.py:132\u001b[0m, in \u001b[0;36mGcf.draw_all\u001b[0;34m(cls, force)\u001b[0m\n\u001b[1;32m    130\u001b[0m \u001b[39mfor\u001b[39;00m manager \u001b[39min\u001b[39;00m \u001b[39mcls\u001b[39m\u001b[39m.\u001b[39mget_all_fig_managers():\n\u001b[1;32m    131\u001b[0m     \u001b[39mif\u001b[39;00m force \u001b[39mor\u001b[39;00m manager\u001b[39m.\u001b[39mcanvas\u001b[39m.\u001b[39mfigure\u001b[39m.\u001b[39mstale:\n\u001b[0;32m--> 132\u001b[0m         manager\u001b[39m.\u001b[39;49mcanvas\u001b[39m.\u001b[39;49mdraw_idle()\n",
      "File \u001b[0;32m~/.local/lib/python3.10/site-packages/matplotlib/backend_bases.py:2082\u001b[0m, in \u001b[0;36mFigureCanvasBase.draw_idle\u001b[0;34m(self, *args, **kwargs)\u001b[0m\n\u001b[1;32m   2080\u001b[0m \u001b[39mif\u001b[39;00m \u001b[39mnot\u001b[39;00m \u001b[39mself\u001b[39m\u001b[39m.\u001b[39m_is_idle_drawing:\n\u001b[1;32m   2081\u001b[0m     \u001b[39mwith\u001b[39;00m \u001b[39mself\u001b[39m\u001b[39m.\u001b[39m_idle_draw_cntx():\n\u001b[0;32m-> 2082\u001b[0m         \u001b[39mself\u001b[39;49m\u001b[39m.\u001b[39;49mdraw(\u001b[39m*\u001b[39;49margs, \u001b[39m*\u001b[39;49m\u001b[39m*\u001b[39;49mkwargs)\n",
      "File \u001b[0;32m~/.local/lib/python3.10/site-packages/matplotlib/backends/backend_agg.py:400\u001b[0m, in \u001b[0;36mFigureCanvasAgg.draw\u001b[0;34m(self)\u001b[0m\n\u001b[1;32m    396\u001b[0m \u001b[39m# Acquire a lock on the shared font cache.\u001b[39;00m\n\u001b[1;32m    397\u001b[0m \u001b[39mwith\u001b[39;00m RendererAgg\u001b[39m.\u001b[39mlock, \\\n\u001b[1;32m    398\u001b[0m      (\u001b[39mself\u001b[39m\u001b[39m.\u001b[39mtoolbar\u001b[39m.\u001b[39m_wait_cursor_for_draw_cm() \u001b[39mif\u001b[39;00m \u001b[39mself\u001b[39m\u001b[39m.\u001b[39mtoolbar\n\u001b[1;32m    399\u001b[0m       \u001b[39melse\u001b[39;00m nullcontext()):\n\u001b[0;32m--> 400\u001b[0m     \u001b[39mself\u001b[39;49m\u001b[39m.\u001b[39;49mfigure\u001b[39m.\u001b[39;49mdraw(\u001b[39mself\u001b[39;49m\u001b[39m.\u001b[39;49mrenderer)\n\u001b[1;32m    401\u001b[0m     \u001b[39m# A GUI class may be need to update a window using this draw, so\u001b[39;00m\n\u001b[1;32m    402\u001b[0m     \u001b[39m# don't forget to call the superclass.\u001b[39;00m\n\u001b[1;32m    403\u001b[0m     \u001b[39msuper\u001b[39m()\u001b[39m.\u001b[39mdraw()\n",
      "File \u001b[0;32m~/.local/lib/python3.10/site-packages/matplotlib/artist.py:95\u001b[0m, in \u001b[0;36m_finalize_rasterization.<locals>.draw_wrapper\u001b[0;34m(artist, renderer, *args, **kwargs)\u001b[0m\n\u001b[1;32m     93\u001b[0m \u001b[39m@wraps\u001b[39m(draw)\n\u001b[1;32m     94\u001b[0m \u001b[39mdef\u001b[39;00m \u001b[39mdraw_wrapper\u001b[39m(artist, renderer, \u001b[39m*\u001b[39margs, \u001b[39m*\u001b[39m\u001b[39m*\u001b[39mkwargs):\n\u001b[0;32m---> 95\u001b[0m     result \u001b[39m=\u001b[39m draw(artist, renderer, \u001b[39m*\u001b[39;49margs, \u001b[39m*\u001b[39;49m\u001b[39m*\u001b[39;49mkwargs)\n\u001b[1;32m     96\u001b[0m     \u001b[39mif\u001b[39;00m renderer\u001b[39m.\u001b[39m_rasterizing:\n\u001b[1;32m     97\u001b[0m         renderer\u001b[39m.\u001b[39mstop_rasterizing()\n",
      "File \u001b[0;32m~/.local/lib/python3.10/site-packages/matplotlib/artist.py:72\u001b[0m, in \u001b[0;36mallow_rasterization.<locals>.draw_wrapper\u001b[0;34m(artist, renderer)\u001b[0m\n\u001b[1;32m     69\u001b[0m     \u001b[39mif\u001b[39;00m artist\u001b[39m.\u001b[39mget_agg_filter() \u001b[39mis\u001b[39;00m \u001b[39mnot\u001b[39;00m \u001b[39mNone\u001b[39;00m:\n\u001b[1;32m     70\u001b[0m         renderer\u001b[39m.\u001b[39mstart_filter()\n\u001b[0;32m---> 72\u001b[0m     \u001b[39mreturn\u001b[39;00m draw(artist, renderer)\n\u001b[1;32m     73\u001b[0m \u001b[39mfinally\u001b[39;00m:\n\u001b[1;32m     74\u001b[0m     \u001b[39mif\u001b[39;00m artist\u001b[39m.\u001b[39mget_agg_filter() \u001b[39mis\u001b[39;00m \u001b[39mnot\u001b[39;00m \u001b[39mNone\u001b[39;00m:\n",
      "File \u001b[0;32m~/.local/lib/python3.10/site-packages/matplotlib/figure.py:3140\u001b[0m, in \u001b[0;36mFigure.draw\u001b[0;34m(self, renderer)\u001b[0m\n\u001b[1;32m   3137\u001b[0m         \u001b[39m# ValueError can occur when resizing a window.\u001b[39;00m\n\u001b[1;32m   3139\u001b[0m \u001b[39mself\u001b[39m\u001b[39m.\u001b[39mpatch\u001b[39m.\u001b[39mdraw(renderer)\n\u001b[0;32m-> 3140\u001b[0m mimage\u001b[39m.\u001b[39;49m_draw_list_compositing_images(\n\u001b[1;32m   3141\u001b[0m     renderer, \u001b[39mself\u001b[39;49m, artists, \u001b[39mself\u001b[39;49m\u001b[39m.\u001b[39;49msuppressComposite)\n\u001b[1;32m   3143\u001b[0m \u001b[39mfor\u001b[39;00m sfig \u001b[39min\u001b[39;00m \u001b[39mself\u001b[39m\u001b[39m.\u001b[39msubfigs:\n\u001b[1;32m   3144\u001b[0m     sfig\u001b[39m.\u001b[39mdraw(renderer)\n",
      "File \u001b[0;32m~/.local/lib/python3.10/site-packages/matplotlib/image.py:131\u001b[0m, in \u001b[0;36m_draw_list_compositing_images\u001b[0;34m(renderer, parent, artists, suppress_composite)\u001b[0m\n\u001b[1;32m    129\u001b[0m \u001b[39mif\u001b[39;00m not_composite \u001b[39mor\u001b[39;00m \u001b[39mnot\u001b[39;00m has_images:\n\u001b[1;32m    130\u001b[0m     \u001b[39mfor\u001b[39;00m a \u001b[39min\u001b[39;00m artists:\n\u001b[0;32m--> 131\u001b[0m         a\u001b[39m.\u001b[39;49mdraw(renderer)\n\u001b[1;32m    132\u001b[0m \u001b[39melse\u001b[39;00m:\n\u001b[1;32m    133\u001b[0m     \u001b[39m# Composite any adjacent images together\u001b[39;00m\n\u001b[1;32m    134\u001b[0m     image_group \u001b[39m=\u001b[39m []\n",
      "File \u001b[0;32m~/.local/lib/python3.10/site-packages/matplotlib/artist.py:72\u001b[0m, in \u001b[0;36mallow_rasterization.<locals>.draw_wrapper\u001b[0;34m(artist, renderer)\u001b[0m\n\u001b[1;32m     69\u001b[0m     \u001b[39mif\u001b[39;00m artist\u001b[39m.\u001b[39mget_agg_filter() \u001b[39mis\u001b[39;00m \u001b[39mnot\u001b[39;00m \u001b[39mNone\u001b[39;00m:\n\u001b[1;32m     70\u001b[0m         renderer\u001b[39m.\u001b[39mstart_filter()\n\u001b[0;32m---> 72\u001b[0m     \u001b[39mreturn\u001b[39;00m draw(artist, renderer)\n\u001b[1;32m     73\u001b[0m \u001b[39mfinally\u001b[39;00m:\n\u001b[1;32m     74\u001b[0m     \u001b[39mif\u001b[39;00m artist\u001b[39m.\u001b[39mget_agg_filter() \u001b[39mis\u001b[39;00m \u001b[39mnot\u001b[39;00m \u001b[39mNone\u001b[39;00m:\n",
      "File \u001b[0;32m~/.local/lib/python3.10/site-packages/matplotlib/axes/_base.py:3064\u001b[0m, in \u001b[0;36m_AxesBase.draw\u001b[0;34m(self, renderer)\u001b[0m\n\u001b[1;32m   3061\u001b[0m \u001b[39mif\u001b[39;00m artists_rasterized:\n\u001b[1;32m   3062\u001b[0m     _draw_rasterized(\u001b[39mself\u001b[39m\u001b[39m.\u001b[39mfigure, artists_rasterized, renderer)\n\u001b[0;32m-> 3064\u001b[0m mimage\u001b[39m.\u001b[39;49m_draw_list_compositing_images(\n\u001b[1;32m   3065\u001b[0m     renderer, \u001b[39mself\u001b[39;49m, artists, \u001b[39mself\u001b[39;49m\u001b[39m.\u001b[39;49mfigure\u001b[39m.\u001b[39;49msuppressComposite)\n\u001b[1;32m   3067\u001b[0m renderer\u001b[39m.\u001b[39mclose_group(\u001b[39m'\u001b[39m\u001b[39maxes\u001b[39m\u001b[39m'\u001b[39m)\n\u001b[1;32m   3068\u001b[0m \u001b[39mself\u001b[39m\u001b[39m.\u001b[39mstale \u001b[39m=\u001b[39m \u001b[39mFalse\u001b[39;00m\n",
      "File \u001b[0;32m~/.local/lib/python3.10/site-packages/matplotlib/image.py:131\u001b[0m, in \u001b[0;36m_draw_list_compositing_images\u001b[0;34m(renderer, parent, artists, suppress_composite)\u001b[0m\n\u001b[1;32m    129\u001b[0m \u001b[39mif\u001b[39;00m not_composite \u001b[39mor\u001b[39;00m \u001b[39mnot\u001b[39;00m has_images:\n\u001b[1;32m    130\u001b[0m     \u001b[39mfor\u001b[39;00m a \u001b[39min\u001b[39;00m artists:\n\u001b[0;32m--> 131\u001b[0m         a\u001b[39m.\u001b[39;49mdraw(renderer)\n\u001b[1;32m    132\u001b[0m \u001b[39melse\u001b[39;00m:\n\u001b[1;32m    133\u001b[0m     \u001b[39m# Composite any adjacent images together\u001b[39;00m\n\u001b[1;32m    134\u001b[0m     image_group \u001b[39m=\u001b[39m []\n",
      "File \u001b[0;32m~/.local/lib/python3.10/site-packages/matplotlib/artist.py:72\u001b[0m, in \u001b[0;36mallow_rasterization.<locals>.draw_wrapper\u001b[0;34m(artist, renderer)\u001b[0m\n\u001b[1;32m     69\u001b[0m     \u001b[39mif\u001b[39;00m artist\u001b[39m.\u001b[39mget_agg_filter() \u001b[39mis\u001b[39;00m \u001b[39mnot\u001b[39;00m \u001b[39mNone\u001b[39;00m:\n\u001b[1;32m     70\u001b[0m         renderer\u001b[39m.\u001b[39mstart_filter()\n\u001b[0;32m---> 72\u001b[0m     \u001b[39mreturn\u001b[39;00m draw(artist, renderer)\n\u001b[1;32m     73\u001b[0m \u001b[39mfinally\u001b[39;00m:\n\u001b[1;32m     74\u001b[0m     \u001b[39mif\u001b[39;00m artist\u001b[39m.\u001b[39mget_agg_filter() \u001b[39mis\u001b[39;00m \u001b[39mnot\u001b[39;00m \u001b[39mNone\u001b[39;00m:\n",
      "File \u001b[0;32m~/.local/lib/python3.10/site-packages/matplotlib/collections.py:972\u001b[0m, in \u001b[0;36m_CollectionWithSizes.draw\u001b[0;34m(self, renderer)\u001b[0m\n\u001b[1;32m    969\u001b[0m \u001b[39m@artist\u001b[39m\u001b[39m.\u001b[39mallow_rasterization\n\u001b[1;32m    970\u001b[0m \u001b[39mdef\u001b[39;00m \u001b[39mdraw\u001b[39m(\u001b[39mself\u001b[39m, renderer):\n\u001b[1;32m    971\u001b[0m     \u001b[39mself\u001b[39m\u001b[39m.\u001b[39mset_sizes(\u001b[39mself\u001b[39m\u001b[39m.\u001b[39m_sizes, \u001b[39mself\u001b[39m\u001b[39m.\u001b[39mfigure\u001b[39m.\u001b[39mdpi)\n\u001b[0;32m--> 972\u001b[0m     \u001b[39msuper\u001b[39;49m()\u001b[39m.\u001b[39;49mdraw(renderer)\n",
      "File \u001b[0;32m~/.local/lib/python3.10/site-packages/matplotlib/artist.py:72\u001b[0m, in \u001b[0;36mallow_rasterization.<locals>.draw_wrapper\u001b[0;34m(artist, renderer)\u001b[0m\n\u001b[1;32m     69\u001b[0m     \u001b[39mif\u001b[39;00m artist\u001b[39m.\u001b[39mget_agg_filter() \u001b[39mis\u001b[39;00m \u001b[39mnot\u001b[39;00m \u001b[39mNone\u001b[39;00m:\n\u001b[1;32m     70\u001b[0m         renderer\u001b[39m.\u001b[39mstart_filter()\n\u001b[0;32m---> 72\u001b[0m     \u001b[39mreturn\u001b[39;00m draw(artist, renderer)\n\u001b[1;32m     73\u001b[0m \u001b[39mfinally\u001b[39;00m:\n\u001b[1;32m     74\u001b[0m     \u001b[39mif\u001b[39;00m artist\u001b[39m.\u001b[39mget_agg_filter() \u001b[39mis\u001b[39;00m \u001b[39mnot\u001b[39;00m \u001b[39mNone\u001b[39;00m:\n",
      "File \u001b[0;32m~/.local/lib/python3.10/site-packages/matplotlib/collections.py:409\u001b[0m, in \u001b[0;36mCollection.draw\u001b[0;34m(self, renderer)\u001b[0m\n\u001b[1;32m    405\u001b[0m     renderer\u001b[39m.\u001b[39mdraw_markers(\n\u001b[1;32m    406\u001b[0m         gc, paths[\u001b[39m0\u001b[39m], combined_transform\u001b[39m.\u001b[39mfrozen(),\n\u001b[1;32m    407\u001b[0m         mpath\u001b[39m.\u001b[39mPath(offsets), offset_trf, \u001b[39mtuple\u001b[39m(facecolors[\u001b[39m0\u001b[39m]))\n\u001b[1;32m    408\u001b[0m \u001b[39melse\u001b[39;00m:\n\u001b[0;32m--> 409\u001b[0m     renderer\u001b[39m.\u001b[39;49mdraw_path_collection(\n\u001b[1;32m    410\u001b[0m         gc, transform\u001b[39m.\u001b[39;49mfrozen(), paths,\n\u001b[1;32m    411\u001b[0m         \u001b[39mself\u001b[39;49m\u001b[39m.\u001b[39;49mget_transforms(), offsets, offset_trf,\n\u001b[1;32m    412\u001b[0m         \u001b[39mself\u001b[39;49m\u001b[39m.\u001b[39;49mget_facecolor(), \u001b[39mself\u001b[39;49m\u001b[39m.\u001b[39;49mget_edgecolor(),\n\u001b[1;32m    413\u001b[0m         \u001b[39mself\u001b[39;49m\u001b[39m.\u001b[39;49m_linewidths, \u001b[39mself\u001b[39;49m\u001b[39m.\u001b[39;49m_linestyles,\n\u001b[1;32m    414\u001b[0m         \u001b[39mself\u001b[39;49m\u001b[39m.\u001b[39;49m_antialiaseds, \u001b[39mself\u001b[39;49m\u001b[39m.\u001b[39;49m_urls,\n\u001b[1;32m    415\u001b[0m         \u001b[39m\"\u001b[39;49m\u001b[39mscreen\u001b[39;49m\u001b[39m\"\u001b[39;49m)  \u001b[39m# offset_position, kept for backcompat.\u001b[39;00m\n\u001b[1;32m    417\u001b[0m gc\u001b[39m.\u001b[39mrestore()\n\u001b[1;32m    418\u001b[0m renderer\u001b[39m.\u001b[39mclose_group(\u001b[39mself\u001b[39m\u001b[39m.\u001b[39m\u001b[39m__class__\u001b[39m\u001b[39m.\u001b[39m\u001b[39m__name__\u001b[39m)\n",
      "File \u001b[0;32m~/.local/lib/python3.10/site-packages/matplotlib/path.py:211\u001b[0m, in \u001b[0;36mPath.vertices\u001b[0;34m(self)\u001b[0m\n\u001b[1;32m    203\u001b[0m     \u001b[39mself\u001b[39m\u001b[39m.\u001b[39m_simplify_threshold \u001b[39m=\u001b[39m mpl\u001b[39m.\u001b[39mrcParams[\u001b[39m'\u001b[39m\u001b[39mpath.simplify_threshold\u001b[39m\u001b[39m'\u001b[39m]\n\u001b[1;32m    204\u001b[0m     \u001b[39mself\u001b[39m\u001b[39m.\u001b[39m_should_simplify \u001b[39m=\u001b[39m (\n\u001b[1;32m    205\u001b[0m         \u001b[39mself\u001b[39m\u001b[39m.\u001b[39m_simplify_threshold \u001b[39m>\u001b[39m \u001b[39m0\u001b[39m \u001b[39mand\u001b[39;00m\n\u001b[1;32m    206\u001b[0m         mpl\u001b[39m.\u001b[39mrcParams[\u001b[39m'\u001b[39m\u001b[39mpath.simplify\u001b[39m\u001b[39m'\u001b[39m] \u001b[39mand\u001b[39;00m\n\u001b[1;32m    207\u001b[0m         \u001b[39mlen\u001b[39m(\u001b[39mself\u001b[39m\u001b[39m.\u001b[39m_vertices) \u001b[39m>\u001b[39m\u001b[39m=\u001b[39m \u001b[39m128\u001b[39m \u001b[39mand\u001b[39;00m\n\u001b[1;32m    208\u001b[0m         (\u001b[39mself\u001b[39m\u001b[39m.\u001b[39m_codes \u001b[39mis\u001b[39;00m \u001b[39mNone\u001b[39;00m \u001b[39mor\u001b[39;00m np\u001b[39m.\u001b[39mall(\u001b[39mself\u001b[39m\u001b[39m.\u001b[39m_codes \u001b[39m<\u001b[39m\u001b[39m=\u001b[39m Path\u001b[39m.\u001b[39mLINETO))\n\u001b[1;32m    209\u001b[0m     )\n\u001b[0;32m--> 211\u001b[0m \u001b[39m@property\u001b[39m\n\u001b[1;32m    212\u001b[0m \u001b[39mdef\u001b[39;00m \u001b[39mvertices\u001b[39m(\u001b[39mself\u001b[39m):\n\u001b[1;32m    213\u001b[0m \u001b[39m    \u001b[39m\u001b[39m\"\"\"\u001b[39;00m\n\u001b[1;32m    214\u001b[0m \u001b[39m    The list of vertices in the `Path` as an Nx2 numpy array.\u001b[39;00m\n\u001b[1;32m    215\u001b[0m \u001b[39m    \"\"\"\u001b[39;00m\n\u001b[1;32m    216\u001b[0m     \u001b[39mreturn\u001b[39;00m \u001b[39mself\u001b[39m\u001b[39m.\u001b[39m_vertices\n",
      "\u001b[0;31mKeyboardInterrupt\u001b[0m: "
     ]
    }
   ],
   "source": [
    "import matplotlib.pyplot as plt\n",
    "\n",
    "def display_clustering(feature1, feature2, feature3, labels):\n",
    "    fig = plt.figure()\n",
    "    ax = fig.add_subplot(projection='3d')\n",
    "    cols = ('c', 'y', 'r', 'g', 'b')\n",
    "    for l in labels:\n",
    "        ax.scatter(feature1[labels == l], feature2[labels == l], feature3[labels == l], c=cols[l%len(cols)])\n",
    "    plt.show()\n",
    "\n",
    "display_clustering(feature1, feature2, feature3, labels)"
   ]
  }
 ],
 "metadata": {
  "kernelspec": {
   "display_name": "Python 3",
   "language": "python",
   "name": "python3"
  },
  "language_info": {
   "codemirror_mode": {
    "name": "ipython",
    "version": 3
   },
   "file_extension": ".py",
   "mimetype": "text/x-python",
   "name": "python",
   "nbconvert_exporter": "python",
   "pygments_lexer": "ipython3",
   "version": "3.10.6"
  },
  "orig_nbformat": 4
 },
 "nbformat": 4,
 "nbformat_minor": 2
}
