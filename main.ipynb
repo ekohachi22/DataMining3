{
 "cells": [
  {
   "cell_type": "code",
   "execution_count": 1,
   "metadata": {},
   "outputs": [
    {
     "data": {
      "text/html": [
       "<div>\n",
       "<style scoped>\n",
       "    .dataframe tbody tr th:only-of-type {\n",
       "        vertical-align: middle;\n",
       "    }\n",
       "\n",
       "    .dataframe tbody tr th {\n",
       "        vertical-align: top;\n",
       "    }\n",
       "\n",
       "    .dataframe thead th {\n",
       "        text-align: right;\n",
       "    }\n",
       "</style>\n",
       "<table border=\"1\" class=\"dataframe\">\n",
       "  <thead>\n",
       "    <tr style=\"text-align: right;\">\n",
       "      <th></th>\n",
       "      <th>id</th>\n",
       "      <th>f_00</th>\n",
       "      <th>f_01</th>\n",
       "      <th>f_02</th>\n",
       "      <th>f_03</th>\n",
       "      <th>f_04</th>\n",
       "      <th>f_05</th>\n",
       "      <th>f_06</th>\n",
       "      <th>f_07</th>\n",
       "      <th>f_08</th>\n",
       "      <th>...</th>\n",
       "      <th>f_19</th>\n",
       "      <th>f_20</th>\n",
       "      <th>f_21</th>\n",
       "      <th>f_22</th>\n",
       "      <th>f_23</th>\n",
       "      <th>f_24</th>\n",
       "      <th>f_25</th>\n",
       "      <th>f_26</th>\n",
       "      <th>f_27</th>\n",
       "      <th>f_28</th>\n",
       "    </tr>\n",
       "  </thead>\n",
       "  <tbody>\n",
       "    <tr>\n",
       "      <th>count</th>\n",
       "      <td>98000.000000</td>\n",
       "      <td>98000.000000</td>\n",
       "      <td>98000.000000</td>\n",
       "      <td>98000.000000</td>\n",
       "      <td>98000.000000</td>\n",
       "      <td>98000.000000</td>\n",
       "      <td>98000.000000</td>\n",
       "      <td>98000.000000</td>\n",
       "      <td>98000.000000</td>\n",
       "      <td>98000.000000</td>\n",
       "      <td>...</td>\n",
       "      <td>98000.000000</td>\n",
       "      <td>98000.000000</td>\n",
       "      <td>98000.000000</td>\n",
       "      <td>98000.000000</td>\n",
       "      <td>98000.000000</td>\n",
       "      <td>98000.000000</td>\n",
       "      <td>98000.000000</td>\n",
       "      <td>98000.000000</td>\n",
       "      <td>98000.000000</td>\n",
       "      <td>98000.000000</td>\n",
       "    </tr>\n",
       "    <tr>\n",
       "      <th>mean</th>\n",
       "      <td>48999.500000</td>\n",
       "      <td>0.001220</td>\n",
       "      <td>0.005580</td>\n",
       "      <td>-0.001042</td>\n",
       "      <td>-0.000700</td>\n",
       "      <td>-0.003522</td>\n",
       "      <td>-0.001612</td>\n",
       "      <td>-0.003042</td>\n",
       "      <td>5.545918</td>\n",
       "      <td>6.763061</td>\n",
       "      <td>...</td>\n",
       "      <td>-0.004513</td>\n",
       "      <td>-0.000515</td>\n",
       "      <td>-0.001670</td>\n",
       "      <td>-0.038752</td>\n",
       "      <td>-0.220002</td>\n",
       "      <td>0.166434</td>\n",
       "      <td>-0.064309</td>\n",
       "      <td>-0.062540</td>\n",
       "      <td>0.098472</td>\n",
       "      <td>-0.230910</td>\n",
       "    </tr>\n",
       "    <tr>\n",
       "      <th>std</th>\n",
       "      <td>28290.307527</td>\n",
       "      <td>1.002801</td>\n",
       "      <td>1.000742</td>\n",
       "      <td>1.001373</td>\n",
       "      <td>1.000422</td>\n",
       "      <td>1.003061</td>\n",
       "      <td>1.000532</td>\n",
       "      <td>0.997434</td>\n",
       "      <td>3.691840</td>\n",
       "      <td>4.152348</td>\n",
       "      <td>...</td>\n",
       "      <td>1.004372</td>\n",
       "      <td>1.002962</td>\n",
       "      <td>0.999703</td>\n",
       "      <td>1.477858</td>\n",
       "      <td>1.494836</td>\n",
       "      <td>1.543014</td>\n",
       "      <td>1.576086</td>\n",
       "      <td>1.428055</td>\n",
       "      <td>1.305407</td>\n",
       "      <td>1.528476</td>\n",
       "    </tr>\n",
       "    <tr>\n",
       "      <th>min</th>\n",
       "      <td>0.000000</td>\n",
       "      <td>-4.732235</td>\n",
       "      <td>-4.202795</td>\n",
       "      <td>-4.377021</td>\n",
       "      <td>-4.010826</td>\n",
       "      <td>-4.535903</td>\n",
       "      <td>-4.300767</td>\n",
       "      <td>-4.894525</td>\n",
       "      <td>0.000000</td>\n",
       "      <td>0.000000</td>\n",
       "      <td>...</td>\n",
       "      <td>-4.894525</td>\n",
       "      <td>-4.732235</td>\n",
       "      <td>-4.438130</td>\n",
       "      <td>-6.873999</td>\n",
       "      <td>-8.234305</td>\n",
       "      <td>-7.792363</td>\n",
       "      <td>-6.593842</td>\n",
       "      <td>-7.375719</td>\n",
       "      <td>-7.335556</td>\n",
       "      <td>-6.954151</td>\n",
       "    </tr>\n",
       "    <tr>\n",
       "      <th>25%</th>\n",
       "      <td>24499.750000</td>\n",
       "      <td>-0.675226</td>\n",
       "      <td>-0.670985</td>\n",
       "      <td>-0.672779</td>\n",
       "      <td>-0.672540</td>\n",
       "      <td>-0.682510</td>\n",
       "      <td>-0.675066</td>\n",
       "      <td>-0.680421</td>\n",
       "      <td>3.000000</td>\n",
       "      <td>4.000000</td>\n",
       "      <td>...</td>\n",
       "      <td>-0.678773</td>\n",
       "      <td>-0.679777</td>\n",
       "      <td>-0.675147</td>\n",
       "      <td>-1.022964</td>\n",
       "      <td>-1.203204</td>\n",
       "      <td>-0.903385</td>\n",
       "      <td>-1.128966</td>\n",
       "      <td>-0.975680</td>\n",
       "      <td>-0.746489</td>\n",
       "      <td>-1.262606</td>\n",
       "    </tr>\n",
       "    <tr>\n",
       "      <th>50%</th>\n",
       "      <td>48999.500000</td>\n",
       "      <td>0.002022</td>\n",
       "      <td>0.006650</td>\n",
       "      <td>-0.000324</td>\n",
       "      <td>-0.003185</td>\n",
       "      <td>-0.003307</td>\n",
       "      <td>0.001024</td>\n",
       "      <td>-0.002053</td>\n",
       "      <td>5.000000</td>\n",
       "      <td>6.000000</td>\n",
       "      <td>...</td>\n",
       "      <td>-0.000587</td>\n",
       "      <td>-0.000806</td>\n",
       "      <td>0.000819</td>\n",
       "      <td>-0.056687</td>\n",
       "      <td>-0.219046</td>\n",
       "      <td>0.167074</td>\n",
       "      <td>-0.099221</td>\n",
       "      <td>-0.070852</td>\n",
       "      <td>0.082230</td>\n",
       "      <td>-0.271319</td>\n",
       "    </tr>\n",
       "    <tr>\n",
       "      <th>75%</th>\n",
       "      <td>73499.250000</td>\n",
       "      <td>0.677271</td>\n",
       "      <td>0.677746</td>\n",
       "      <td>0.677086</td>\n",
       "      <td>0.672097</td>\n",
       "      <td>0.677589</td>\n",
       "      <td>0.673344</td>\n",
       "      <td>0.668112</td>\n",
       "      <td>8.000000</td>\n",
       "      <td>9.000000</td>\n",
       "      <td>...</td>\n",
       "      <td>0.672149</td>\n",
       "      <td>0.675437</td>\n",
       "      <td>0.676881</td>\n",
       "      <td>0.930158</td>\n",
       "      <td>0.764690</td>\n",
       "      <td>1.217432</td>\n",
       "      <td>0.987684</td>\n",
       "      <td>0.843212</td>\n",
       "      <td>0.925306</td>\n",
       "      <td>0.770516</td>\n",
       "    </tr>\n",
       "    <tr>\n",
       "      <th>max</th>\n",
       "      <td>97999.000000</td>\n",
       "      <td>4.490521</td>\n",
       "      <td>4.324974</td>\n",
       "      <td>4.560247</td>\n",
       "      <td>4.399373</td>\n",
       "      <td>4.050549</td>\n",
       "      <td>4.710316</td>\n",
       "      <td>3.998595</td>\n",
       "      <td>32.000000</td>\n",
       "      <td>30.000000</td>\n",
       "      <td>...</td>\n",
       "      <td>4.560247</td>\n",
       "      <td>4.399373</td>\n",
       "      <td>4.135419</td>\n",
       "      <td>6.517721</td>\n",
       "      <td>6.054831</td>\n",
       "      <td>7.527271</td>\n",
       "      <td>7.544731</td>\n",
       "      <td>7.005608</td>\n",
       "      <td>7.205971</td>\n",
       "      <td>6.977150</td>\n",
       "    </tr>\n",
       "  </tbody>\n",
       "</table>\n",
       "<p>8 rows × 30 columns</p>\n",
       "</div>"
      ],
      "text/plain": [
       "                 id          f_00          f_01          f_02          f_03  \\\n",
       "count  98000.000000  98000.000000  98000.000000  98000.000000  98000.000000   \n",
       "mean   48999.500000      0.001220      0.005580     -0.001042     -0.000700   \n",
       "std    28290.307527      1.002801      1.000742      1.001373      1.000422   \n",
       "min        0.000000     -4.732235     -4.202795     -4.377021     -4.010826   \n",
       "25%    24499.750000     -0.675226     -0.670985     -0.672779     -0.672540   \n",
       "50%    48999.500000      0.002022      0.006650     -0.000324     -0.003185   \n",
       "75%    73499.250000      0.677271      0.677746      0.677086      0.672097   \n",
       "max    97999.000000      4.490521      4.324974      4.560247      4.399373   \n",
       "\n",
       "               f_04          f_05          f_06          f_07          f_08  \\\n",
       "count  98000.000000  98000.000000  98000.000000  98000.000000  98000.000000   \n",
       "mean      -0.003522     -0.001612     -0.003042      5.545918      6.763061   \n",
       "std        1.003061      1.000532      0.997434      3.691840      4.152348   \n",
       "min       -4.535903     -4.300767     -4.894525      0.000000      0.000000   \n",
       "25%       -0.682510     -0.675066     -0.680421      3.000000      4.000000   \n",
       "50%       -0.003307      0.001024     -0.002053      5.000000      6.000000   \n",
       "75%        0.677589      0.673344      0.668112      8.000000      9.000000   \n",
       "max        4.050549      4.710316      3.998595     32.000000     30.000000   \n",
       "\n",
       "       ...          f_19          f_20          f_21          f_22  \\\n",
       "count  ...  98000.000000  98000.000000  98000.000000  98000.000000   \n",
       "mean   ...     -0.004513     -0.000515     -0.001670     -0.038752   \n",
       "std    ...      1.004372      1.002962      0.999703      1.477858   \n",
       "min    ...     -4.894525     -4.732235     -4.438130     -6.873999   \n",
       "25%    ...     -0.678773     -0.679777     -0.675147     -1.022964   \n",
       "50%    ...     -0.000587     -0.000806      0.000819     -0.056687   \n",
       "75%    ...      0.672149      0.675437      0.676881      0.930158   \n",
       "max    ...      4.560247      4.399373      4.135419      6.517721   \n",
       "\n",
       "               f_23          f_24          f_25          f_26          f_27  \\\n",
       "count  98000.000000  98000.000000  98000.000000  98000.000000  98000.000000   \n",
       "mean      -0.220002      0.166434     -0.064309     -0.062540      0.098472   \n",
       "std        1.494836      1.543014      1.576086      1.428055      1.305407   \n",
       "min       -8.234305     -7.792363     -6.593842     -7.375719     -7.335556   \n",
       "25%       -1.203204     -0.903385     -1.128966     -0.975680     -0.746489   \n",
       "50%       -0.219046      0.167074     -0.099221     -0.070852      0.082230   \n",
       "75%        0.764690      1.217432      0.987684      0.843212      0.925306   \n",
       "max        6.054831      7.527271      7.544731      7.005608      7.205971   \n",
       "\n",
       "               f_28  \n",
       "count  98000.000000  \n",
       "mean      -0.230910  \n",
       "std        1.528476  \n",
       "min       -6.954151  \n",
       "25%       -1.262606  \n",
       "50%       -0.271319  \n",
       "75%        0.770516  \n",
       "max        6.977150  \n",
       "\n",
       "[8 rows x 30 columns]"
      ]
     },
     "execution_count": 1,
     "metadata": {},
     "output_type": "execute_result"
    }
   ],
   "source": [
    "import pandas as pd\n",
    "\n",
    "data = pd.read_csv('data/data.csv')\n",
    "data.describe()"
   ]
  },
  {
   "attachments": {},
   "cell_type": "markdown",
   "metadata": {},
   "source": [
    "## Preprocessing"
   ]
  },
  {
   "cell_type": "code",
   "execution_count": 2,
   "metadata": {},
   "outputs": [
    {
     "data": {
      "text/html": [
       "<div>\n",
       "<style scoped>\n",
       "    .dataframe tbody tr th:only-of-type {\n",
       "        vertical-align: middle;\n",
       "    }\n",
       "\n",
       "    .dataframe tbody tr th {\n",
       "        vertical-align: top;\n",
       "    }\n",
       "\n",
       "    .dataframe thead th {\n",
       "        text-align: right;\n",
       "    }\n",
       "</style>\n",
       "<table border=\"1\" class=\"dataframe\">\n",
       "  <thead>\n",
       "    <tr style=\"text-align: right;\">\n",
       "      <th></th>\n",
       "      <th>0</th>\n",
       "      <th>1</th>\n",
       "      <th>2</th>\n",
       "      <th>3</th>\n",
       "      <th>4</th>\n",
       "      <th>5</th>\n",
       "      <th>6</th>\n",
       "      <th>7</th>\n",
       "      <th>8</th>\n",
       "      <th>9</th>\n",
       "      <th>...</th>\n",
       "      <th>16</th>\n",
       "      <th>17</th>\n",
       "      <th>18</th>\n",
       "      <th>19</th>\n",
       "      <th>20</th>\n",
       "      <th>21</th>\n",
       "      <th>24</th>\n",
       "      <th>25</th>\n",
       "      <th>26</th>\n",
       "      <th>27</th>\n",
       "    </tr>\n",
       "  </thead>\n",
       "  <tbody>\n",
       "    <tr>\n",
       "      <th>count</th>\n",
       "      <td>98000.000000</td>\n",
       "      <td>98000.000000</td>\n",
       "      <td>98000.000000</td>\n",
       "      <td>98000.000000</td>\n",
       "      <td>98000.000000</td>\n",
       "      <td>98000.000000</td>\n",
       "      <td>98000.000000</td>\n",
       "      <td>98000.000000</td>\n",
       "      <td>98000.000000</td>\n",
       "      <td>98000.000000</td>\n",
       "      <td>...</td>\n",
       "      <td>98000.000000</td>\n",
       "      <td>98000.000000</td>\n",
       "      <td>98000.000000</td>\n",
       "      <td>98000.000000</td>\n",
       "      <td>98000.000000</td>\n",
       "      <td>98000.000000</td>\n",
       "      <td>98000.000000</td>\n",
       "      <td>98000.000000</td>\n",
       "      <td>98000.000000</td>\n",
       "      <td>98000.000000</td>\n",
       "    </tr>\n",
       "    <tr>\n",
       "      <th>mean</th>\n",
       "      <td>0.513236</td>\n",
       "      <td>0.493491</td>\n",
       "      <td>0.489633</td>\n",
       "      <td>0.476817</td>\n",
       "      <td>0.527853</td>\n",
       "      <td>0.477096</td>\n",
       "      <td>0.550030</td>\n",
       "      <td>0.493985</td>\n",
       "      <td>0.514757</td>\n",
       "      <td>0.502128</td>\n",
       "      <td>...</td>\n",
       "      <td>0.560867</td>\n",
       "      <td>0.519516</td>\n",
       "      <td>0.461824</td>\n",
       "      <td>0.508519</td>\n",
       "      <td>0.511227</td>\n",
       "      <td>0.482600</td>\n",
       "      <td>0.100622</td>\n",
       "      <td>0.109469</td>\n",
       "      <td>0.110173</td>\n",
       "      <td>0.105480</td>\n",
       "    </tr>\n",
       "    <tr>\n",
       "      <th>std</th>\n",
       "      <td>0.108731</td>\n",
       "      <td>0.117351</td>\n",
       "      <td>0.112045</td>\n",
       "      <td>0.118953</td>\n",
       "      <td>0.116819</td>\n",
       "      <td>0.111033</td>\n",
       "      <td>0.112158</td>\n",
       "      <td>0.112651</td>\n",
       "      <td>0.113675</td>\n",
       "      <td>0.120300</td>\n",
       "      <td>...</td>\n",
       "      <td>0.104613</td>\n",
       "      <td>0.100721</td>\n",
       "      <td>0.111474</td>\n",
       "      <td>0.099299</td>\n",
       "      <td>0.089771</td>\n",
       "      <td>0.109715</td>\n",
       "      <td>0.300830</td>\n",
       "      <td>0.312229</td>\n",
       "      <td>0.313107</td>\n",
       "      <td>0.307172</td>\n",
       "    </tr>\n",
       "    <tr>\n",
       "      <th>min</th>\n",
       "      <td>0.000000</td>\n",
       "      <td>0.000000</td>\n",
       "      <td>0.000000</td>\n",
       "      <td>0.000000</td>\n",
       "      <td>0.000000</td>\n",
       "      <td>0.000000</td>\n",
       "      <td>0.000000</td>\n",
       "      <td>0.000000</td>\n",
       "      <td>0.000000</td>\n",
       "      <td>0.000000</td>\n",
       "      <td>...</td>\n",
       "      <td>0.000000</td>\n",
       "      <td>0.000000</td>\n",
       "      <td>0.000000</td>\n",
       "      <td>0.000000</td>\n",
       "      <td>0.000000</td>\n",
       "      <td>0.000000</td>\n",
       "      <td>0.000000</td>\n",
       "      <td>0.000000</td>\n",
       "      <td>0.000000</td>\n",
       "      <td>0.000000</td>\n",
       "    </tr>\n",
       "    <tr>\n",
       "      <th>25%</th>\n",
       "      <td>0.439891</td>\n",
       "      <td>0.414154</td>\n",
       "      <td>0.414471</td>\n",
       "      <td>0.396933</td>\n",
       "      <td>0.448776</td>\n",
       "      <td>0.402360</td>\n",
       "      <td>0.473861</td>\n",
       "      <td>0.417840</td>\n",
       "      <td>0.438097</td>\n",
       "      <td>0.421016</td>\n",
       "      <td>...</td>\n",
       "      <td>0.492059</td>\n",
       "      <td>0.449683</td>\n",
       "      <td>0.386522</td>\n",
       "      <td>0.445024</td>\n",
       "      <td>0.453121</td>\n",
       "      <td>0.408544</td>\n",
       "      <td>0.000000</td>\n",
       "      <td>0.000000</td>\n",
       "      <td>0.000000</td>\n",
       "      <td>0.000000</td>\n",
       "    </tr>\n",
       "    <tr>\n",
       "      <th>50%</th>\n",
       "      <td>0.513323</td>\n",
       "      <td>0.493616</td>\n",
       "      <td>0.489713</td>\n",
       "      <td>0.476522</td>\n",
       "      <td>0.527878</td>\n",
       "      <td>0.477389</td>\n",
       "      <td>0.550141</td>\n",
       "      <td>0.493999</td>\n",
       "      <td>0.514568</td>\n",
       "      <td>0.502264</td>\n",
       "      <td>...</td>\n",
       "      <td>0.560934</td>\n",
       "      <td>0.519558</td>\n",
       "      <td>0.459355</td>\n",
       "      <td>0.507941</td>\n",
       "      <td>0.510111</td>\n",
       "      <td>0.479699</td>\n",
       "      <td>0.000000</td>\n",
       "      <td>0.000000</td>\n",
       "      <td>0.000000</td>\n",
       "      <td>0.000000</td>\n",
       "    </tr>\n",
       "    <tr>\n",
       "      <th>75%</th>\n",
       "      <td>0.586539</td>\n",
       "      <td>0.572312</td>\n",
       "      <td>0.565509</td>\n",
       "      <td>0.556815</td>\n",
       "      <td>0.607177</td>\n",
       "      <td>0.551999</td>\n",
       "      <td>0.625499</td>\n",
       "      <td>0.570135</td>\n",
       "      <td>0.591574</td>\n",
       "      <td>0.583126</td>\n",
       "      <td>...</td>\n",
       "      <td>0.629779</td>\n",
       "      <td>0.588121</td>\n",
       "      <td>0.536230</td>\n",
       "      <td>0.571500</td>\n",
       "      <td>0.568088</td>\n",
       "      <td>0.554483</td>\n",
       "      <td>0.000000</td>\n",
       "      <td>0.000000</td>\n",
       "      <td>0.000000</td>\n",
       "      <td>0.000000</td>\n",
       "    </tr>\n",
       "    <tr>\n",
       "      <th>max</th>\n",
       "      <td>1.000000</td>\n",
       "      <td>1.000000</td>\n",
       "      <td>1.000000</td>\n",
       "      <td>1.000000</td>\n",
       "      <td>1.000000</td>\n",
       "      <td>1.000000</td>\n",
       "      <td>1.000000</td>\n",
       "      <td>1.000000</td>\n",
       "      <td>1.000000</td>\n",
       "      <td>1.000000</td>\n",
       "      <td>...</td>\n",
       "      <td>1.000000</td>\n",
       "      <td>1.000000</td>\n",
       "      <td>1.000000</td>\n",
       "      <td>1.000000</td>\n",
       "      <td>1.000000</td>\n",
       "      <td>1.000000</td>\n",
       "      <td>1.000000</td>\n",
       "      <td>1.000000</td>\n",
       "      <td>1.000000</td>\n",
       "      <td>1.000000</td>\n",
       "    </tr>\n",
       "  </tbody>\n",
       "</table>\n",
       "<p>8 rows × 26 columns</p>\n",
       "</div>"
      ],
      "text/plain": [
       "                 0             1             2             3             4   \\\n",
       "count  98000.000000  98000.000000  98000.000000  98000.000000  98000.000000   \n",
       "mean       0.513236      0.493491      0.489633      0.476817      0.527853   \n",
       "std        0.108731      0.117351      0.112045      0.118953      0.116819   \n",
       "min        0.000000      0.000000      0.000000      0.000000      0.000000   \n",
       "25%        0.439891      0.414154      0.414471      0.396933      0.448776   \n",
       "50%        0.513323      0.493616      0.489713      0.476522      0.527878   \n",
       "75%        0.586539      0.572312      0.565509      0.556815      0.607177   \n",
       "max        1.000000      1.000000      1.000000      1.000000      1.000000   \n",
       "\n",
       "                 5             6             7             8             9   \\\n",
       "count  98000.000000  98000.000000  98000.000000  98000.000000  98000.000000   \n",
       "mean       0.477096      0.550030      0.493985      0.514757      0.502128   \n",
       "std        0.111033      0.112158      0.112651      0.113675      0.120300   \n",
       "min        0.000000      0.000000      0.000000      0.000000      0.000000   \n",
       "25%        0.402360      0.473861      0.417840      0.438097      0.421016   \n",
       "50%        0.477389      0.550141      0.493999      0.514568      0.502264   \n",
       "75%        0.551999      0.625499      0.570135      0.591574      0.583126   \n",
       "max        1.000000      1.000000      1.000000      1.000000      1.000000   \n",
       "\n",
       "       ...            16            17            18            19  \\\n",
       "count  ...  98000.000000  98000.000000  98000.000000  98000.000000   \n",
       "mean   ...      0.560867      0.519516      0.461824      0.508519   \n",
       "std    ...      0.104613      0.100721      0.111474      0.099299   \n",
       "min    ...      0.000000      0.000000      0.000000      0.000000   \n",
       "25%    ...      0.492059      0.449683      0.386522      0.445024   \n",
       "50%    ...      0.560934      0.519558      0.459355      0.507941   \n",
       "75%    ...      0.629779      0.588121      0.536230      0.571500   \n",
       "max    ...      1.000000      1.000000      1.000000      1.000000   \n",
       "\n",
       "                 20            21            24            25            26  \\\n",
       "count  98000.000000  98000.000000  98000.000000  98000.000000  98000.000000   \n",
       "mean       0.511227      0.482600      0.100622      0.109469      0.110173   \n",
       "std        0.089771      0.109715      0.300830      0.312229      0.313107   \n",
       "min        0.000000      0.000000      0.000000      0.000000      0.000000   \n",
       "25%        0.453121      0.408544      0.000000      0.000000      0.000000   \n",
       "50%        0.510111      0.479699      0.000000      0.000000      0.000000   \n",
       "75%        0.568088      0.554483      0.000000      0.000000      0.000000   \n",
       "max        1.000000      1.000000      1.000000      1.000000      1.000000   \n",
       "\n",
       "                 27  \n",
       "count  98000.000000  \n",
       "mean       0.105480  \n",
       "std        0.307172  \n",
       "min        0.000000  \n",
       "25%        0.000000  \n",
       "50%        0.000000  \n",
       "75%        0.000000  \n",
       "max        1.000000  \n",
       "\n",
       "[8 rows x 26 columns]"
      ]
     },
     "execution_count": 2,
     "metadata": {},
     "output_type": "execute_result"
    }
   ],
   "source": [
    "from sklearn.preprocessing import StandardScaler, OneHotEncoder, MinMaxScaler\n",
    "from sklearn.compose import make_column_transformer\n",
    "\n",
    "data = data.drop('id', axis = 1)\n",
    "categorical_cols = tuple(f'f_0{i}' if i < 10 else f'f_{i}' for i in range(7, 14))\n",
    "numerical_cols = tuple(col for col in data.columns if col not in categorical_cols)\n",
    "scale = make_column_transformer((MinMaxScaler(), numerical_cols), (OneHotEncoder(), categorical_cols))\n",
    "data_norm = pd.DataFrame(scale.fit_transform(data).todense())\n",
    "data_norm = data_norm[data_norm.columns[(data_norm.mean() > 0.1) | (data_norm.max() > 1)]] #A bit of a hack, but it removes all of the sparse features from one hot encoding\n",
    "data_norm.describe()\n"
   ]
  },
  {
   "attachments": {},
   "cell_type": "markdown",
   "metadata": {},
   "source": [
    "The numerical attributes are only normalized (They already have more or less a normal distribution), the categorical ones are encoded using one hot encoding schema. To reduce the dimensionality of the data (which gets quite big because of the one hot encoding), we only keep the features that have a mean bigger than 0.1 (That includes only the derived features from one hot encoding which are quite sparse)"
   ]
  },
  {
   "attachments": {},
   "cell_type": "markdown",
   "metadata": {},
   "source": [
    "## Clustering"
   ]
  },
  {
   "attachments": {},
   "cell_type": "markdown",
   "metadata": {},
   "source": [
    "KMeans"
   ]
  },
  {
   "cell_type": "code",
   "execution_count": 53,
   "metadata": {},
   "outputs": [
    {
     "name": "stderr",
     "output_type": "stream",
     "text": [
      "/home/ekoha/.local/lib/python3.10/site-packages/sklearn/cluster/_kmeans.py:870: FutureWarning: The default value of `n_init` will change from 10 to 'auto' in 1.4. Set the value of `n_init` explicitly to suppress the warning\n",
      "  warnings.warn(\n"
     ]
    },
    {
     "name": "stdout",
     "output_type": "stream",
     "text": [
      "Sil: 0.416391430849294, db: 1.2088825807840264, k: 2\n"
     ]
    },
    {
     "name": "stderr",
     "output_type": "stream",
     "text": [
      "/home/ekoha/.local/lib/python3.10/site-packages/sklearn/cluster/_kmeans.py:870: FutureWarning: The default value of `n_init` will change from 10 to 'auto' in 1.4. Set the value of `n_init` explicitly to suppress the warning\n",
      "  warnings.warn(\n"
     ]
    },
    {
     "name": "stdout",
     "output_type": "stream",
     "text": [
      "Sil: 0.49927043434757046, db: 1.1607295594249318, k: 3\n"
     ]
    },
    {
     "name": "stderr",
     "output_type": "stream",
     "text": [
      "/home/ekoha/.local/lib/python3.10/site-packages/sklearn/cluster/_kmeans.py:870: FutureWarning: The default value of `n_init` will change from 10 to 'auto' in 1.4. Set the value of `n_init` explicitly to suppress the warning\n",
      "  warnings.warn(\n"
     ]
    },
    {
     "name": "stdout",
     "output_type": "stream",
     "text": [
      "Sil: 0.5786615552459249, db: 1.1010283129031366, k: 4\n"
     ]
    },
    {
     "name": "stderr",
     "output_type": "stream",
     "text": [
      "/home/ekoha/.local/lib/python3.10/site-packages/sklearn/cluster/_kmeans.py:870: FutureWarning: The default value of `n_init` will change from 10 to 'auto' in 1.4. Set the value of `n_init` explicitly to suppress the warning\n",
      "  warnings.warn(\n"
     ]
    },
    {
     "name": "stdout",
     "output_type": "stream",
     "text": [
      "Sil: 0.648466697569372, db: 1.0229647179811308, k: 5\n"
     ]
    },
    {
     "name": "stderr",
     "output_type": "stream",
     "text": [
      "/home/ekoha/.local/lib/python3.10/site-packages/sklearn/cluster/_kmeans.py:870: FutureWarning: The default value of `n_init` will change from 10 to 'auto' in 1.4. Set the value of `n_init` explicitly to suppress the warning\n",
      "  warnings.warn(\n"
     ]
    },
    {
     "name": "stdout",
     "output_type": "stream",
     "text": [
      "Sil: 0.32305438419419086, db: 2.415482265988181, k: 6\n"
     ]
    },
    {
     "name": "stderr",
     "output_type": "stream",
     "text": [
      "/home/ekoha/.local/lib/python3.10/site-packages/sklearn/cluster/_kmeans.py:870: FutureWarning: The default value of `n_init` will change from 10 to 'auto' in 1.4. Set the value of `n_init` explicitly to suppress the warning\n",
      "  warnings.warn(\n"
     ]
    },
    {
     "name": "stdout",
     "output_type": "stream",
     "text": [
      "Sil: 0.317818042106165, db: 2.558236755403382, k: 7\n"
     ]
    },
    {
     "name": "stderr",
     "output_type": "stream",
     "text": [
      "/home/ekoha/.local/lib/python3.10/site-packages/sklearn/cluster/_kmeans.py:870: FutureWarning: The default value of `n_init` will change from 10 to 'auto' in 1.4. Set the value of `n_init` explicitly to suppress the warning\n",
      "  warnings.warn(\n"
     ]
    },
    {
     "name": "stdout",
     "output_type": "stream",
     "text": [
      "Sil: 0.3116239600014311, db: 2.62948862198838, k: 8\n"
     ]
    },
    {
     "name": "stderr",
     "output_type": "stream",
     "text": [
      "/home/ekoha/.local/lib/python3.10/site-packages/sklearn/cluster/_kmeans.py:870: FutureWarning: The default value of `n_init` will change from 10 to 'auto' in 1.4. Set the value of `n_init` explicitly to suppress the warning\n",
      "  warnings.warn(\n"
     ]
    },
    {
     "name": "stdout",
     "output_type": "stream",
     "text": [
      "Sil: 0.31128438917061485, db: 2.697729930340963, k: 9\n"
     ]
    },
    {
     "name": "stderr",
     "output_type": "stream",
     "text": [
      "/home/ekoha/.local/lib/python3.10/site-packages/sklearn/cluster/_kmeans.py:870: FutureWarning: The default value of `n_init` will change from 10 to 'auto' in 1.4. Set the value of `n_init` explicitly to suppress the warning\n",
      "  warnings.warn(\n"
     ]
    },
    {
     "name": "stdout",
     "output_type": "stream",
     "text": [
      "Sil: 0.2437901645854717, db: 3.38392414226158, k: 10\n"
     ]
    },
    {
     "name": "stderr",
     "output_type": "stream",
     "text": [
      "/home/ekoha/.local/lib/python3.10/site-packages/sklearn/cluster/_kmeans.py:870: FutureWarning: The default value of `n_init` will change from 10 to 'auto' in 1.4. Set the value of `n_init` explicitly to suppress the warning\n",
      "  warnings.warn(\n"
     ]
    },
    {
     "name": "stdout",
     "output_type": "stream",
     "text": [
      "Sil: 0.2475518719999945, db: 3.3523673994391756, k: 11\n"
     ]
    },
    {
     "name": "stderr",
     "output_type": "stream",
     "text": [
      "/home/ekoha/.local/lib/python3.10/site-packages/sklearn/cluster/_kmeans.py:870: FutureWarning: The default value of `n_init` will change from 10 to 'auto' in 1.4. Set the value of `n_init` explicitly to suppress the warning\n",
      "  warnings.warn(\n"
     ]
    },
    {
     "name": "stdout",
     "output_type": "stream",
     "text": [
      "Sil: 0.18345818595383878, db: 3.8968542071263426, k: 12\n"
     ]
    },
    {
     "name": "stderr",
     "output_type": "stream",
     "text": [
      "/home/ekoha/.local/lib/python3.10/site-packages/sklearn/cluster/_kmeans.py:870: FutureWarning: The default value of `n_init` will change from 10 to 'auto' in 1.4. Set the value of `n_init` explicitly to suppress the warning\n",
      "  warnings.warn(\n"
     ]
    },
    {
     "name": "stdout",
     "output_type": "stream",
     "text": [
      "Sil: 0.18109356284166686, db: 3.8279302005611138, k: 13\n"
     ]
    },
    {
     "name": "stderr",
     "output_type": "stream",
     "text": [
      "/home/ekoha/.local/lib/python3.10/site-packages/sklearn/cluster/_kmeans.py:870: FutureWarning: The default value of `n_init` will change from 10 to 'auto' in 1.4. Set the value of `n_init` explicitly to suppress the warning\n",
      "  warnings.warn(\n"
     ]
    },
    {
     "name": "stdout",
     "output_type": "stream",
     "text": [
      "Sil: 0.1780871085995445, db: 3.7118979713682765, k: 14\n"
     ]
    },
    {
     "name": "stderr",
     "output_type": "stream",
     "text": [
      "/home/ekoha/.local/lib/python3.10/site-packages/sklearn/cluster/_kmeans.py:870: FutureWarning: The default value of `n_init` will change from 10 to 'auto' in 1.4. Set the value of `n_init` explicitly to suppress the warning\n",
      "  warnings.warn(\n"
     ]
    },
    {
     "name": "stdout",
     "output_type": "stream",
     "text": [
      "Sil: 0.1780752939738769, db: 3.6394911455833356, k: 15\n"
     ]
    },
    {
     "name": "stderr",
     "output_type": "stream",
     "text": [
      "/home/ekoha/.local/lib/python3.10/site-packages/sklearn/cluster/_kmeans.py:870: FutureWarning: The default value of `n_init` will change from 10 to 'auto' in 1.4. Set the value of `n_init` explicitly to suppress the warning\n",
      "  warnings.warn(\n"
     ]
    },
    {
     "name": "stdout",
     "output_type": "stream",
     "text": [
      "Sil: 0.11471617825887806, db: 4.034228987988483, k: 16\n"
     ]
    },
    {
     "name": "stderr",
     "output_type": "stream",
     "text": [
      "/home/ekoha/.local/lib/python3.10/site-packages/sklearn/cluster/_kmeans.py:870: FutureWarning: The default value of `n_init` will change from 10 to 'auto' in 1.4. Set the value of `n_init` explicitly to suppress the warning\n",
      "  warnings.warn(\n"
     ]
    },
    {
     "name": "stdout",
     "output_type": "stream",
     "text": [
      "Sil: 0.11390913211301885, db: 3.999896504575335, k: 17\n"
     ]
    },
    {
     "name": "stderr",
     "output_type": "stream",
     "text": [
      "/home/ekoha/.local/lib/python3.10/site-packages/sklearn/cluster/_kmeans.py:870: FutureWarning: The default value of `n_init` will change from 10 to 'auto' in 1.4. Set the value of `n_init` explicitly to suppress the warning\n",
      "  warnings.warn(\n"
     ]
    },
    {
     "name": "stdout",
     "output_type": "stream",
     "text": [
      "Sil: 0.048632883925465074, db: 4.259287199034102, k: 18\n"
     ]
    },
    {
     "name": "stderr",
     "output_type": "stream",
     "text": [
      "/home/ekoha/.local/lib/python3.10/site-packages/sklearn/cluster/_kmeans.py:870: FutureWarning: The default value of `n_init` will change from 10 to 'auto' in 1.4. Set the value of `n_init` explicitly to suppress the warning\n",
      "  warnings.warn(\n"
     ]
    },
    {
     "name": "stdout",
     "output_type": "stream",
     "text": [
      "Sil: 0.10678248229451928, db: 3.863039527006799, k: 19\n"
     ]
    },
    {
     "name": "stderr",
     "output_type": "stream",
     "text": [
      "/home/ekoha/.local/lib/python3.10/site-packages/sklearn/cluster/_kmeans.py:870: FutureWarning: The default value of `n_init` will change from 10 to 'auto' in 1.4. Set the value of `n_init` explicitly to suppress the warning\n",
      "  warnings.warn(\n"
     ]
    },
    {
     "name": "stdout",
     "output_type": "stream",
     "text": [
      "Sil: 0.11183412989038544, db: 3.876112329269161, k: 20\n"
     ]
    },
    {
     "name": "stderr",
     "output_type": "stream",
     "text": [
      "/home/ekoha/.local/lib/python3.10/site-packages/sklearn/cluster/_kmeans.py:870: FutureWarning: The default value of `n_init` will change from 10 to 'auto' in 1.4. Set the value of `n_init` explicitly to suppress the warning\n",
      "  warnings.warn(\n"
     ]
    },
    {
     "name": "stdout",
     "output_type": "stream",
     "text": [
      "Sil: 0.049396382130506296, db: 4.128403967607821, k: 21\n"
     ]
    },
    {
     "name": "stderr",
     "output_type": "stream",
     "text": [
      "/home/ekoha/.local/lib/python3.10/site-packages/sklearn/cluster/_kmeans.py:870: FutureWarning: The default value of `n_init` will change from 10 to 'auto' in 1.4. Set the value of `n_init` explicitly to suppress the warning\n",
      "  warnings.warn(\n"
     ]
    },
    {
     "name": "stdout",
     "output_type": "stream",
     "text": [
      "Sil: 0.1099995133933185, db: 3.8023191644141594, k: 22\n"
     ]
    },
    {
     "name": "stderr",
     "output_type": "stream",
     "text": [
      "/home/ekoha/.local/lib/python3.10/site-packages/sklearn/cluster/_kmeans.py:870: FutureWarning: The default value of `n_init` will change from 10 to 'auto' in 1.4. Set the value of `n_init` explicitly to suppress the warning\n",
      "  warnings.warn(\n"
     ]
    },
    {
     "name": "stdout",
     "output_type": "stream",
     "text": [
      "Sil: 0.0467631819443357, db: 4.0236030262465, k: 23\n"
     ]
    },
    {
     "name": "stderr",
     "output_type": "stream",
     "text": [
      "/home/ekoha/.local/lib/python3.10/site-packages/sklearn/cluster/_kmeans.py:870: FutureWarning: The default value of `n_init` will change from 10 to 'auto' in 1.4. Set the value of `n_init` explicitly to suppress the warning\n",
      "  warnings.warn(\n"
     ]
    },
    {
     "name": "stdout",
     "output_type": "stream",
     "text": [
      "Sil: 0.045065499447483545, db: 3.9871778602878956, k: 24\n"
     ]
    }
   ],
   "source": [
    "from sklearn.metrics import silhouette_score, davies_bouldin_score\n",
    "from sklearn.cluster import KMeans\n",
    "from sklearn.model_selection import train_test_split\n",
    "\n",
    "X_train, X_test = train_test_split(data_norm)\n",
    "cluster_range = range(2, 25)\n",
    "db_index_scores = []\n",
    "sil_scores = []\n",
    "\n",
    "for k in cluster_range:\n",
    "    model = KMeans(n_clusters=k).fit(X_train)\n",
    "    res = model.predict(X_test)\n",
    "    sil_score = silhouette_score(X_test, res, metric='cosine')\n",
    "    db_index_score = davies_bouldin_score(X_test, res)\n",
    "    sil_scores.append(sil_score)\n",
    "    db_index_scores.append(db_index_score)\n",
    "    print(f'Sil: {sil_score}, db: {db_index_score}, k: {k}')"
   ]
  },
  {
   "cell_type": "code",
   "execution_count": 54,
   "metadata": {},
   "outputs": [
    {
     "data": {
      "image/png": "[encoded data removed]",
      "text/plain": [
       "<Figure size 640x480 with 1 Axes>"
      ]
     },
     "metadata": {},
     "output_type": "display_data"
    }
   ],
   "source": [
    "%matplotlib inline\n",
    "import matplotlib.pyplot as plt\n",
    "\n",
    "plt.clf()\n",
    "plt.plot(cluster_range, db_index_scores)\n",
    "plt.plot(cluster_range, sil_scores)\n",
    "plt.savefig('clusters_metrics_kmeans.png')"
   ]
  },
  {
   "attachments": {},
   "cell_type": "markdown",
   "metadata": {},
   "source": [
    "DBScan"
   ]
  },
  {
   "cell_type": "code",
   "execution_count": 4,
   "metadata": {},
   "outputs": [
    {
     "name": "stdout",
     "output_type": "stream",
     "text": [
      "Sil: -0.612157177538098, db: 1.7171654844010782, eps: 0.01, n_samples: 2\n",
      "Sil: 0.6074138193503347, db: 2.814246390936846, eps: 0.02, n_samples: 2\n",
      "Sil: 0.6389537748221623, db: 1.3215036493380001, eps: 0.03, n_samples: 2\n",
      "Sil: 0.6479761760544966, db: 1.025386667056388, eps: 0.04, n_samples: 2\n",
      "Sil: 0.6479761760544966, db: 1.025386667056388, eps: 0.05, n_samples: 2\n",
      "Sil: 0.6479761760544966, db: 1.025386667056388, eps: 0.060000000000000005, n_samples: 2\n",
      "Wrong number of clusters\n",
      "Wrong number of clusters\n",
      "Wrong number of clusters\n",
      "Wrong number of clusters\n",
      "Sil: -0.6074444044972813, db: 1.9977908709028558, eps: 0.01, n_samples: 3\n",
      "Sil: 0.6074138193503347, db: 2.814246390936846, eps: 0.02, n_samples: 3\n",
      "Sil: 0.6389537748221623, db: 1.3215036493380001, eps: 0.03, n_samples: 3\n",
      "Sil: 0.6479761760544966, db: 1.025386667056388, eps: 0.04, n_samples: 3\n",
      "Sil: 0.6479761760544966, db: 1.025386667056388, eps: 0.05, n_samples: 3\n",
      "Sil: 0.6479761760544966, db: 1.025386667056388, eps: 0.060000000000000005, n_samples: 3\n",
      "Wrong number of clusters\n",
      "Wrong number of clusters\n",
      "Wrong number of clusters\n",
      "Wrong number of clusters\n",
      "Sil: -0.5944219434917026, db: 2.165014894904088, eps: 0.01, n_samples: 4\n",
      "Sil: 0.6063747948535521, db: 2.820768568528307, eps: 0.02, n_samples: 4\n",
      "Sil: 0.6389537748221623, db: 1.3215036493380001, eps: 0.03, n_samples: 4\n",
      "Sil: 0.6479761760544966, db: 1.025386667056388, eps: 0.04, n_samples: 4\n",
      "Sil: 0.6479761760544966, db: 1.025386667056388, eps: 0.05, n_samples: 4\n",
      "Sil: 0.6479761760544966, db: 1.025386667056388, eps: 0.060000000000000005, n_samples: 4\n",
      "Wrong number of clusters\n",
      "Wrong number of clusters\n",
      "Wrong number of clusters\n",
      "Wrong number of clusters\n",
      "Sil: -0.5882722832032716, db: 2.2878873444128045, eps: 0.01, n_samples: 5\n",
      "Sil: 0.6055574872725717, db: 2.8279478375089435, eps: 0.02, n_samples: 5\n",
      "Sil: 0.6389537748221623, db: 1.3215036493380001, eps: 0.03, n_samples: 5\n",
      "Sil: 0.6479761760544966, db: 1.025386667056388, eps: 0.04, n_samples: 5\n",
      "Sil: 0.6479761760544966, db: 1.025386667056388, eps: 0.05, n_samples: 5\n",
      "Sil: 0.6479761760544966, db: 1.025386667056388, eps: 0.060000000000000005, n_samples: 5\n",
      "Wrong number of clusters\n",
      "Wrong number of clusters\n",
      "Wrong number of clusters\n",
      "Wrong number of clusters\n"
     ]
    }
   ],
   "source": [
    "from sklearn.cluster import DBSCAN\n",
    "from sklearn.metrics import silhouette_score, davies_bouldin_score\n",
    "from sklearn.model_selection import train_test_split\n",
    "import numpy as np\n",
    "\n",
    "eps = 0.01\n",
    "eps_step = 0.01\n",
    "samples_range = range(2, 6)\n",
    "db_index_scores = []\n",
    "sil_scores = []\n",
    "trunc_data, _ = train_test_split(data_norm, test_size = 0.8) # Kernel dies without reducing the amount of rows\n",
    "\n",
    "for n_samples in samples_range:\n",
    "    eps = 0.01\n",
    "    while eps <= 0.1:\n",
    "        model = DBSCAN(eps = eps, min_samples=n_samples, metric = 'cosine').fit(trunc_data)\n",
    "        res = model.labels_\n",
    "        if len(np.unique(res)) > 1:\n",
    "            sil_score = silhouette_score(trunc_data, res, metric='cosine')\n",
    "            db_index_score = davies_bouldin_score(trunc_data, res)\n",
    "            sil_scores.append((eps, n_samples, sil_score))\n",
    "            db_index_scores.append((eps, n_samples, db_index_score))\n",
    "            print(f'Sil: {sil_score}, db: {db_index_score}, eps: {eps}, n_samples: {n_samples}')\n",
    "        else:\n",
    "            print(\"Wrong number of clusters\")\n",
    "        eps += eps_step"
   ]
  },
  {
   "attachments": {},
   "cell_type": "markdown",
   "metadata": {},
   "source": [
    "# Cluster numbers worth trying: 2 - 5 with 5 being seemingly the best"
   ]
  },
  {
   "attachments": {},
   "cell_type": "markdown",
   "metadata": {},
   "source": [
    "# DBSCAN: Anything with eps between 0.04 and 0.06 seems good, no matter the min_samples"
   ]
  },
  {
   "cell_type": "code",
   "execution_count": 45,
   "metadata": {},
   "outputs": [],
   "source": []
  }
 ],
 "metadata": {
  "kernelspec": {
   "display_name": "Python 3",
   "language": "python",
   "name": "python3"
  },
  "language_info": {
   "codemirror_mode": {
    "name": "ipython",
    "version": 3
   },
   "file_extension": ".py",
   "mimetype": "text/x-python",
   "name": "python",
   "nbconvert_exporter": "python",
   "pygments_lexer": "ipython3",
   "version": "3.10.6"
  },
  "orig_nbformat": 4
 },
 "nbformat": 4,
 "nbformat_minor": 2
}
